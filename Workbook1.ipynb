{
 "cells": [
  {
   "cell_type": "markdown",
   "source": [
    "# 1.3. Задание"
   ],
   "metadata": {
    "collapsed": false
   }
  },
  {
   "cell_type": "code",
   "execution_count": 38,
   "outputs": [],
   "source": [
    "x = 5 >= 2\n",
    "A = {1, 3, 7, 8}\n",
    "B = {2, 4, 5, 10, 'apple'}\n",
    "C = A & B\n",
    "df = 'Антонова Антонина', 34, 'ж'\n",
    "z = 'type'\n",
    "D = [1, 'title', 2, 'content']"
   ],
   "metadata": {
    "collapsed": false
   }
  },
  {
   "cell_type": "code",
   "execution_count": 39,
   "outputs": [
    {
     "name": "stdout",
     "output_type": "stream",
     "text": [
      "True | <class 'bool'> \n",
      " {8, 1, 3, 7} | <class 'set'> \n",
      " {2, 'apple', 4, 5, 10} | <class 'set'> \n",
      " set() | <class 'set'> \n",
      " ('Антонова Антонина', 34, 'ж') | <class 'tuple'> \n",
      " type | <class 'str'> \n",
      " [1, 'title', 2, 'content'] | <class 'list'> \n",
      "\n"
     ]
    }
   ],
   "source": [
    "print(x, '|', type(x), '\\n', A, '|', type(A), '\\n', B, '|', type(B), '\\n', C, '|', type(C), '\\n', df, '|', type(df), '\\n', z, '|', type(z), '\\n', D, '|', type(D), '\\n')"
   ],
   "metadata": {
    "collapsed": false
   }
  },
  {
   "cell_type": "markdown",
   "source": [
    "# 2.3. Задание"
   ],
   "metadata": {
    "collapsed": false
   }
  },
  {
   "cell_type": "markdown",
   "source": [
    "Напишите код. Задается х, напечатать какому из интервалов принадлежит: (-infinity, -5), [-5, 5] или от (5, +infinity)"
   ],
   "metadata": {
    "collapsed": false
   }
  },
  {
   "cell_type": "code",
   "execution_count": 40,
   "outputs": [
    {
     "name": "stdout",
     "output_type": "stream",
     "text": [
      "0 принадлежит [-5, 5]\n"
     ]
    }
   ],
   "source": [
    "x = 0\n",
    "if x < -5:\n",
    "    print(x, 'принадлежит (-infinity, -5)')\n",
    "elif x > 5:\n",
    "    print(x, 'принадлежит (5, +infinity)')\n",
    "else:\n",
    "    print(x, 'принадлежит [-5, 5]')"
   ],
   "metadata": {
    "collapsed": false
   }
  },
  {
   "cell_type": "markdown",
   "source": [
    "# 3.3.1 Задание"
   ],
   "metadata": {
    "collapsed": false
   }
  },
  {
   "cell_type": "markdown",
   "source": [
    "Выведите числа из примера на while (3.2.1) в обратном порядке"
   ],
   "metadata": {
    "collapsed": false
   }
  },
  {
   "cell_type": "code",
   "execution_count": 41,
   "outputs": [
    {
     "name": "stdout",
     "output_type": "stream",
     "text": [
      "10\n",
      "7\n",
      "4\n",
      "1\n"
     ]
    }
   ],
   "source": [
    "x = 10\n",
    "while x > 0:\n",
    "    print(x)\n",
    "    x -= 3"
   ],
   "metadata": {
    "collapsed": false
   }
  },
  {
   "cell_type": "markdown",
   "source": [
    "# 3.3.2 Задание"
   ],
   "metadata": {
    "collapsed": false
   }
  },
  {
   "cell_type": "markdown",
   "source": [
    "При решении задач машинного обучения часто в качестве объектов исследования выступает человек. Создайте список значимых характеристик (признаков), идентифицирующих человека. Выведите список на экран."
   ],
   "metadata": {
    "collapsed": false
   }
  },
  {
   "cell_type": "code",
   "execution_count": 42,
   "outputs": [
    {
     "name": "stdout",
     "output_type": "stream",
     "text": [
      "name\n",
      "age\n",
      "height\n",
      "weight\n"
     ]
    }
   ],
   "source": [
    "criterias = ['name', 'age', 'height', 'weight']\n",
    "for criteria in criterias:\n",
    "    print(criteria)"
   ],
   "metadata": {
    "collapsed": false
   }
  },
  {
   "cell_type": "markdown",
   "source": [
    "# 3.3.3 Задание"
   ],
   "metadata": {
    "collapsed": false
   }
  },
  {
   "cell_type": "markdown",
   "source": [
    "Создать список чисел от 2 до 15 с шагом 1."
   ],
   "metadata": {
    "collapsed": false
   }
  },
  {
   "cell_type": "code",
   "execution_count": 43,
   "outputs": [
    {
     "name": "stdout",
     "output_type": "stream",
     "text": [
      "[2, 3, 4, 5, 6, 7, 8, 9, 10, 11, 12, 13, 14, 15]\n"
     ]
    }
   ],
   "source": [
    "list_int = list(range(2, 16))\n",
    "print(list_int)"
   ],
   "metadata": {
    "collapsed": false
   }
  },
  {
   "cell_type": "markdown",
   "source": [
    "# 3.3.4 Задание"
   ],
   "metadata": {
    "collapsed": false
   }
  },
  {
   "cell_type": "markdown",
   "source": [
    "Выведите числа из примера на for c функцией range() (3.2.4) в обратном порядке."
   ],
   "metadata": {
    "collapsed": false
   }
  },
  {
   "cell_type": "code",
   "execution_count": 44,
   "outputs": [
    {
     "name": "stdout",
     "output_type": "stream",
     "text": [
      "105\n",
      "80\n",
      "55\n",
      "30\n",
      "5\n"
     ]
    }
   ],
   "source": [
    "for i in range(105, 4, -25):\n",
    "    print(i)"
   ],
   "metadata": {
    "collapsed": false
   }
  },
  {
   "cell_type": "markdown",
   "source": [
    "# 3.3.5 Задание"
   ],
   "metadata": {
    "collapsed": false
   }
  },
  {
   "cell_type": "markdown",
   "source": [
    "Срез. Напишите код, который все элементы массива x с четными индексами переставит в обратном порядке. Т.е. если $x = [0, 1, 2, 3, 4, 5, 6, 7, 8, 9]$, то код должен сформировать $[8, 1, 6, 3, 4, 5, 2, 7, 0, 9]$."
   ],
   "metadata": {
    "collapsed": false
   }
  },
  {
   "cell_type": "code",
   "execution_count": 128,
   "outputs": [
    {
     "name": "stdout",
     "output_type": "stream",
     "text": [
      "[8, 1, 6, 3, 4, 5, 2, 7, 0, 9]\n"
     ]
    }
   ],
   "source": [
    "list_int = [0, 1, 2, 3, 4, 5, 6, 7, 8, 9]\n",
    "tmp = list_int[::2]\n",
    "list_int[::2] = tmp[::-1]\n",
    "print(list_int)"
   ],
   "metadata": {
    "collapsed": false
   }
  },
  {
   "cell_type": "markdown",
   "source": [
    "# 4.3.1 Задание"
   ],
   "metadata": {
    "collapsed": false
   }
  },
  {
   "cell_type": "markdown",
   "source": [
    "Задайте массив случайных значений из интервала $(0; 1)$.\n",
    "Рассчитайте средние и медианные значения для массива, сравните результаты, какие выводы можно сделать о значениях?\n",
    "Постройте точечную диаграмму рассения полученного ряда."
   ],
   "metadata": {
    "collapsed": false
   }
  },
  {
   "cell_type": "code",
   "execution_count": 2,
   "outputs": [
    {
     "name": "stdout",
     "output_type": "stream",
     "text": [
      "0.446735362565\n",
      "0.5010745280057807\n"
     ]
    },
    {
     "data": {
      "text/plain": "<matplotlib.collections.PathCollection at 0x22526a444f0>"
     },
     "execution_count": 2,
     "metadata": {},
     "output_type": "execute_result"
    },
    {
     "data": {
      "text/plain": "<Figure size 432x288 with 1 Axes>",
      "image/png": "[encoded data removed]"
     },
     "metadata": {
      "needs_background": "light"
     },
     "output_type": "display_data"
    }
   ],
   "source": [
    "import numpy as np\n",
    "from matplotlib import pyplot as plt\n",
    "\n",
    "arr = np.random.sample(50)\n",
    "print(np.median(arr))\n",
    "print(np.mean(arr))\n",
    "plt.scatter(arr, arr)"
   ],
   "metadata": {
    "collapsed": false
   }
  },
  {
   "cell_type": "markdown",
   "source": [
    "# 4.3.2 Задание"
   ],
   "metadata": {
    "collapsed": false
   }
  },
  {
   "cell_type": "markdown",
   "source": [
    "Дана функция $\\frac{\\sqrt{1+e^\\sqrt{x}+\\cos x^2}}{|1-\\sin^3x|}+\\ln|2x|$;\n",
    "Создать массив из 10 значений функции ($x$, например, изменяется от 1 до 10). Выделить срез первой половины массива и построить графики для основного массива – линейный и для среза – точечный"
   ],
   "metadata": {
    "collapsed": false
   }
  },
  {
   "cell_type": "code",
   "execution_count": 5,
   "outputs": [
    {
     "data": {
      "text/plain": "<matplotlib.collections.PathCollection at 0x225278738b0>"
     },
     "execution_count": 5,
     "metadata": {},
     "output_type": "execute_result"
    },
    {
     "data": {
      "text/plain": "<Figure size 432x288 with 1 Axes>",
      "image/png": "[encoded data removed]"
     },
     "metadata": {
      "needs_background": "light"
     },
     "output_type": "display_data"
    }
   ],
   "source": [
    "import numpy as np\n",
    "from matplotlib import pyplot as plt\n",
    "\n",
    "x = np.arange(1, 10, 1)\n",
    "y =  np.sqrt(1 + np.e ** np.sqrt(x) + np.cos(x ** 2))/(np.fabs(1 - np.sin(x) ** 3))\n",
    "\n",
    "plt.plot(x, y)\n",
    "plt.scatter(x[:5], y[:5])"
   ],
   "metadata": {
    "collapsed": false
   }
  },
  {
   "cell_type": "markdown",
   "source": [
    "# 4.3.3 Задание"
   ],
   "metadata": {
    "collapsed": false
   }
  },
  {
   "cell_type": "markdown",
   "source": [
    "Дана функция $|cos(x e^{\\cos(x)+\\ln(x+1)})|$. Построить график на интервале (0,10) с шагом 1 с заливкой площади и найти эту площадь под ним.\n",
    "Для вычисления площади воспользуйтесь функцией `trapz()`, вычисляющей интеграл по правилу трапеции.\n"
   ],
   "metadata": {
    "collapsed": false
   }
  },
  {
   "cell_type": "code",
   "execution_count": 14,
   "outputs": [
    {
     "name": "stdout",
     "output_type": "stream",
     "text": [
      "5.281433013197265\n"
     ]
    },
    {
     "data": {
      "text/plain": "<Figure size 432x288 with 1 Axes>",
      "image/png": "[encoded data removed]"
     },
     "metadata": {
      "needs_background": "light"
     },
     "output_type": "display_data"
    }
   ],
   "source": [
    "import numpy as np\n",
    "from matplotlib import pyplot as plt\n",
    "from numpy import trapz\n",
    "\n",
    "x = np.arange(1, 10, 1)\n",
    "y =  np.fabs(np.cos(x * np.e ** (np.cos(x) + np.log(x + 1))))\n",
    "plt.grid()\n",
    "plt.plot(x, y, c='r')\n",
    "plt.fill_between(x, y)\n",
    "\n",
    "area = trapz(y)\n",
    "print(area)"
   ],
   "metadata": {
    "collapsed": false
   }
  },
  {
   "cell_type": "markdown",
   "source": [
    "# 4.3.4 Задание"
   ],
   "metadata": {
    "collapsed": false
   }
  },
  {
   "cell_type": "markdown",
   "source": [
    "Откройте статистические данные по стоимости акций Apple, Microsoft, Google за 12 месяцев 2021 г.\n",
    "Постройте 3 графика на плоскости и оцените их динамику.\n",
    "Подумайте, как можно улучшить читаемость результатов.\n"
   ],
   "metadata": {
    "collapsed": false
   }
  },
  {
   "cell_type": "code",
   "execution_count": 17,
   "outputs": [
    {
     "data": {
      "text/plain": "[<matplotlib.lines.Line2D at 0x2253fb2ac40>]"
     },
     "execution_count": 17,
     "metadata": {},
     "output_type": "execute_result"
    },
    {
     "data": {
      "text/plain": "<Figure size 432x288 with 1 Axes>",
      "image/png": "[encoded data removed]"
     },
     "metadata": {
      "needs_background": "light"
     },
     "output_type": "display_data"
    }
   ],
   "source": [
    "months = [1, 2, 3, 4, 5, 6, 7, 8, 9, 10, 11, 12]\n",
    "Apple = [145.089996, 137.880005, 128.720001, 137.070007, 134.070007, 137.410004, 150.000000, 153.490005, 157.259995, 153.169998, 165.699997, 182.130005]\n",
    "Microsoft = [242.639999, 246.130005, 241.050003, 263.190002, 254.350006, 271.649994, 290.149994, 305.839996, 305.320007, 332.000000, 349.670013, 344.299988]\n",
    "Google = [96.742996, 107.634003, 106.440498, 122.618896, 122.147202, 127.795998, 140.011002, 146.489502, 146.820496, 149.117996, 151.850006, 149.604996]\n",
    "\n",
    "plt.grid()\n",
    "plt.plot(months, Apple, c='r')\n",
    "plt.plot(months, Microsoft, c='b')\n",
    "plt.plot(months, Google, c='g')"
   ],
   "metadata": {
    "collapsed": false
   }
  },
  {
   "cell_type": "markdown",
   "source": [
    "# 4.3.5 Задание"
   ],
   "metadata": {
    "collapsed": false
   }
  },
  {
   "cell_type": "markdown",
   "source": [
    "Создайте простейший калькулятор, включающий основные действия\n",
    "для двух переменных '$+$', '$-$', '$\\cdot$', '$\\div$', а также вычисление\n",
    "следующих функций: $e^{x+y}$, $\\sin(x+y)$, $\\cos(x+y)$, $x^y$.\n"
   ],
   "metadata": {
    "collapsed": false
   }
  },
  {
   "cell_type": "code",
   "execution_count": 2,
   "outputs": [
    {
     "name": "stdout",
     "output_type": "stream",
     "text": [
      "10.0 + 5.0 = 15.0\n",
      "10.0 - 5.0 = 5.0\n",
      "10.0 * 5.0 = 50.0\n",
      "10.0 / 5.0 = 2.0\n",
      "e^(10.0 + 5.0) = 3269017.3724721107\n",
      "sin(10.0 + 5.0) = 0.6502878401571168\n",
      "cos(10.0 + 5.0) = -0.7596879128588213\n",
      "10.0 ^ 5.0) = 100000.0\n"
     ]
    }
   ],
   "source": [
    "import math\n",
    "\n",
    "x, y = map(float, input().split())\n",
    "print(f'{x} + {y} = {x + y}')\n",
    "print(f'{x} - {y} = {x - y}')\n",
    "print(f'{x} * {y} = {x * y}')\n",
    "print(f'{x} / {y} = {x / y}')\n",
    "print(f'e^({x} + {y}) = {math.exp(x + y)}')\n",
    "print(f'sin({x} + {y}) = {math.sin(x + y)}')\n",
    "print(f'cos({x} + {y}) = {math.cos(x + y)}')\n",
    "print(f'{x} ^ {y} = {x ** y}')"
   ],
   "metadata": {
    "collapsed": false
   }
  }
 ],
 "metadata": {
  "kernelspec": {
   "display_name": "Python 3",
   "language": "python",
   "name": "python3"
  },
  "language_info": {
   "codemirror_mode": {
    "name": "ipython",
    "version": 2
   },
   "file_extension": ".py",
   "mimetype": "text/x-python",
   "name": "python",
   "nbconvert_exporter": "python",
   "pygments_lexer": "ipython2",
   "version": "2.7.6"
  }
 },
 "nbformat": 4,
 "nbformat_minor": 0
}
