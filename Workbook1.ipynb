{
  "cells": [
    {
      "cell_type": "markdown",
      "source": [
        "# 1.2. Пример"
      ],
      "metadata": {
        "id": "5z2dWwZt1OFK"
      }
    },
    {
      "cell_type": "markdown",
      "source": [
        "Выведите на печать и определите тип переменной."
      ],
      "metadata": {
        "id": "atAotxL2Ur1_"
      }
    },
    {
      "cell_type": "code",
      "source": [
        "x = 3+5.2*7\n",
        "y = None\n",
        "z = 'a', 5, 12.345, (2, 'b')\n",
        "df = [['Антонова Антонина', 34, 'ж'], ['Борисов Борис', 26, 'м']]\n",
        "A = {1, 'title', 2, 'content'}"
      ],
      "metadata": {
        "id": "uxXzRJEC1XI8"
      },
      "execution_count": null,
      "outputs": []
    },
    {
      "cell_type": "code",
      "source": [
        "print(x, '|', type(x), '\\n', y, '|', type(y), '\\n', z, '|', type(z), '\\n', df, '|', type(df), '\\n', A, '|', type(A))"
      ],
      "metadata": {
        "colab": {
          "base_uri": "https://localhost:8080/"
        },
        "id": "bXMRfN5C1ccP",
        "outputId": "c63f9000-2a9b-474d-f117-dd5680af4f17"
      },
      "execution_count": null,
      "outputs": [
        {
          "output_type": "stream",
          "name": "stdout",
          "text": [
            "39.4 | <class 'float'> \n",
            " None | <class 'NoneType'> \n",
            " ('a', 5, 12.345, (2, 'b')) | <class 'tuple'> \n",
            " [['Антонова Антонина', 34, 'ж'], ['Борисов Борис', 26, 'м']] | <class 'list'> \n",
            " {'title', 'content', 2, 1} | <class 'set'>\n"
          ]
        }
      ]
    },
    {
      "cell_type": "markdown",
      "source": [
        "# 1.3. Задание"
      ],
      "metadata": {
        "collapsed": false,
        "id": "8TfSPBz2xKoi"
      }
    },
    {
      "cell_type": "markdown",
      "source": [
        "Выведите на печать и определите тип переменной."
      ],
      "metadata": {
        "id": "DfZWw-8iUymt"
      }
    },
    {
      "cell_type": "code",
      "execution_count": null,
      "outputs": [],
      "source": [
        "x = 5 >= 2\n",
        "A = {1, 3, 7, 8}\n",
        "B = {2, 4, 5, 10, 'apple'}\n",
        "C = A & B\n",
        "df = 'Антонова Антонина', 34, 'ж'\n",
        "z = 'type'\n",
        "D = [1, 'title', 2, 'content']"
      ],
      "metadata": {
        "id": "GdOt-IyjxKok"
      }
    },
    {
      "cell_type": "code",
      "execution_count": null,
      "outputs": [
        {
          "output_type": "stream",
          "name": "stdout",
          "text": [
            "True | <class 'bool'> \n",
            " {8, 1, 3, 7} | <class 'set'> \n",
            " {2, 4, 5, 'apple', 10} | <class 'set'> \n",
            " set() | <class 'set'> \n",
            " ('Антонова Антонина', 34, 'ж') | <class 'tuple'> \n",
            " type | <class 'str'> \n",
            " [1, 'title', 2, 'content'] | <class 'list'> \n",
            "\n"
          ]
        }
      ],
      "source": [
        "print(x, '|', type(x), '\\n', A, '|', type(A), '\\n', B, '|', type(B), '\\n', C, '|', type(C), '\\n', df, '|', type(df), '\\n', z, '|', type(z), '\\n', D, '|', type(D), '\\n')"
      ],
      "metadata": {
        "colab": {
          "base_uri": "https://localhost:8080/"
        },
        "id": "_xuH_rdBxKok",
        "outputId": "a350fa5c-10b0-4f48-f682-2d416833bb19"
      }
    },
    {
      "cell_type": "markdown",
      "source": [
        "# 2.2. Пример"
      ],
      "metadata": {
        "id": "SW5rWQhaSoj6"
      }
    },
    {
      "cell_type": "markdown",
      "source": [
        "Вывести на экран является ли переменная х положительной, отрицательной или равна нулю."
      ],
      "metadata": {
        "id": "xxfQvdcnU131"
      }
    },
    {
      "cell_type": "code",
      "source": [
        "x = 125\n",
        "if x<0:\n",
        "  print(\"x отрицательный\")\n",
        "elif x==0:\n",
        "  print(\"x равен нулю\")\n",
        "else:\n",
        "  print(\"x положительный\")"
      ],
      "metadata": {
        "colab": {
          "base_uri": "https://localhost:8080/"
        },
        "id": "yH3FWwN7SsuH",
        "outputId": "3eb5c5a8-b580-4105-c475-c097ddf5385e"
      },
      "execution_count": null,
      "outputs": [
        {
          "output_type": "stream",
          "name": "stdout",
          "text": [
            "x положительный\n"
          ]
        }
      ]
    },
    {
      "cell_type": "markdown",
      "source": [
        "# 2.3. Задание"
      ],
      "metadata": {
        "collapsed": false,
        "id": "EvC4usuexKol"
      }
    },
    {
      "cell_type": "markdown",
      "source": [
        "Напишите код. Задается х, напечатать какому из интервалов принадлежит: (-infinity, -5), [-5, 5] или от (5, +infinity)"
      ],
      "metadata": {
        "collapsed": false,
        "id": "erprDdczxKom"
      }
    },
    {
      "cell_type": "code",
      "execution_count": 16,
      "outputs": [
        {
          "output_type": "stream",
          "name": "stdout",
          "text": [
            "-4 принадлежит [-5, 5]\n"
          ]
        }
      ],
      "source": [
        "x = -4\n",
        "if x < -5:\n",
        "    print(x, 'принадлежит (-infinity, -5)')\n",
        "elif x > 5:\n",
        "    print(x, 'принадлежит (5, +infinity)')\n",
        "else:\n",
        "    print(x, 'принадлежит [-5, 5]')"
      ],
      "metadata": {
        "colab": {
          "base_uri": "https://localhost:8080/"
        },
        "id": "IL1QAs5_xKom",
        "outputId": "7e0b2bb2-d1f8-4f7c-d08e-63429de332c0"
      }
    },
    {
      "cell_type": "markdown",
      "source": [
        "# 3.2.1. Пример"
      ],
      "metadata": {
        "id": "pGjTlRiMTKyQ"
      }
    },
    {
      "cell_type": "markdown",
      "source": [
        "Вывести все числа от 1 до 10 с шагом 3."
      ],
      "metadata": {
        "id": "OVfYe_RXU797"
      }
    },
    {
      "cell_type": "code",
      "source": [
        "x = 1\n",
        "while x <= 10:\n",
        "  print(x)\n",
        "  x += 3"
      ],
      "metadata": {
        "colab": {
          "base_uri": "https://localhost:8080/"
        },
        "id": "9d6tUL1cTQy8",
        "outputId": "e913d334-b5f9-4168-e041-a9491aa14d34"
      },
      "execution_count": null,
      "outputs": [
        {
          "output_type": "stream",
          "name": "stdout",
          "text": [
            "1\n",
            "4\n",
            "7\n",
            "10\n"
          ]
        }
      ]
    },
    {
      "cell_type": "markdown",
      "source": [
        "# 3.2.2. Пример"
      ],
      "metadata": {
        "id": "H2h3DhytTXTB"
      }
    },
    {
      "cell_type": "markdown",
      "source": [
        "Задан список. Напечатать все элементы списка"
      ],
      "metadata": {
        "id": "7SuWZcjPU-RU"
      }
    },
    {
      "cell_type": "code",
      "source": [
        "models = ['KNN', 'decision tree', 'linear model']\n",
        "for model in models:\n",
        "  print(model)"
      ],
      "metadata": {
        "colab": {
          "base_uri": "https://localhost:8080/"
        },
        "id": "2BfyFSRPTdZF",
        "outputId": "0c97e7d0-29b5-406b-9a8d-d37f0be1e47f"
      },
      "execution_count": null,
      "outputs": [
        {
          "output_type": "stream",
          "name": "stdout",
          "text": [
            "KNN\n",
            "decision tree\n",
            "linear model\n"
          ]
        }
      ]
    },
    {
      "cell_type": "markdown",
      "source": [
        "# 3.2.3. Пример"
      ],
      "metadata": {
        "id": "d8cdSwWZTvvX"
      }
    },
    {
      "cell_type": "markdown",
      "source": [
        "Создать список от 1 до 99 с шагом 7."
      ],
      "metadata": {
        "id": "jlaBl6fmVAgN"
      }
    },
    {
      "cell_type": "code",
      "source": [
        "list_int = range(1, 100, 7)\n",
        "print(list(list_int))"
      ],
      "metadata": {
        "colab": {
          "base_uri": "https://localhost:8080/"
        },
        "id": "vqlNhDOiT0oO",
        "outputId": "b181b417-616c-4107-d1a1-6dbcb9c2a9f8"
      },
      "execution_count": null,
      "outputs": [
        {
          "output_type": "stream",
          "name": "stdout",
          "text": [
            "[1, 8, 15, 22, 29, 36, 43, 50, 57, 64, 71, 78, 85, 92, 99]\n"
          ]
        }
      ]
    },
    {
      "cell_type": "markdown",
      "source": [
        "# 3.2.4. Пример"
      ],
      "metadata": {
        "id": "MH4NJFUKUGMq"
      }
    },
    {
      "cell_type": "markdown",
      "source": [
        "Вывести на экран числа от 1 до 105 с шагом 25, используя функцию range()"
      ],
      "metadata": {
        "id": "sYtBC__aVCRU"
      }
    },
    {
      "cell_type": "code",
      "source": [
        "for i in range(5, 106, 25):\n",
        "  print(i)"
      ],
      "metadata": {
        "colab": {
          "base_uri": "https://localhost:8080/"
        },
        "id": "L_5pFxGPUK8_",
        "outputId": "7713e9c3-6b94-47c2-fd08-c5f01991f340"
      },
      "execution_count": null,
      "outputs": [
        {
          "output_type": "stream",
          "name": "stdout",
          "text": [
            "5\n",
            "30\n",
            "55\n",
            "80\n",
            "105\n"
          ]
        }
      ]
    },
    {
      "cell_type": "markdown",
      "source": [
        "# 3.2.5. Пример"
      ],
      "metadata": {
        "id": "P_GpEHa8UR2G"
      }
    },
    {
      "cell_type": "markdown",
      "source": [
        "Срез. Необходимо получить каждый k-й элемент массива a, начиная с элемента с индексом i (включительно) и заканчивая элементом с индексом j (не включительно), c шагом 2. Или переставить все элементы в обратном порядке.\n"
      ],
      "metadata": {
        "id": "wTTB1hJAVJ4w"
      }
    },
    {
      "cell_type": "code",
      "source": [
        "a = [1, 2, 3, 4, 5, 6, 7, 8, 9]\n",
        "b = a[1:7:2]\n",
        "c = a[::-1]\n",
        "print(b)\n",
        "print(c)"
      ],
      "metadata": {
        "colab": {
          "base_uri": "https://localhost:8080/"
        },
        "id": "TC5Stz95UTkD",
        "outputId": "2a47c580-3242-4cf6-d81e-2024aa4b55af"
      },
      "execution_count": null,
      "outputs": [
        {
          "output_type": "stream",
          "name": "stdout",
          "text": [
            "[2, 4, 6]\n",
            "[9, 8, 7, 6, 5, 4, 3, 2, 1]\n"
          ]
        }
      ]
    },
    {
      "cell_type": "markdown",
      "source": [
        "# 3.3.1. Задание"
      ],
      "metadata": {
        "collapsed": false,
        "id": "H8rz0eebxKom"
      }
    },
    {
      "cell_type": "markdown",
      "source": [
        "Выведите числа из примера на while (3.2.1) в обратном порядке."
      ],
      "metadata": {
        "collapsed": false,
        "id": "XnAZGJy_xKom"
      }
    },
    {
      "cell_type": "code",
      "execution_count": null,
      "outputs": [
        {
          "name": "stdout",
          "output_type": "stream",
          "text": [
            "10\n",
            "7\n",
            "4\n",
            "1\n"
          ]
        }
      ],
      "source": [
        "x = 10\n",
        "while x > 0:\n",
        "    print(x)\n",
        "    x -= 3"
      ],
      "metadata": {
        "id": "xCqfE4VixKon",
        "outputId": "5b6c8ba6-af7a-4616-9b71-b5c9053dbce5"
      }
    },
    {
      "cell_type": "markdown",
      "source": [
        "# 3.3.2. Задание"
      ],
      "metadata": {
        "collapsed": false,
        "id": "TE6Yt4a0xKon"
      }
    },
    {
      "cell_type": "markdown",
      "source": [
        "При решении задач машинного обучения часто в качестве объектов исследования выступает человек. Создайте список значимых характеристик (признаков), идентифицирующих человека. Выведите список на экран."
      ],
      "metadata": {
        "collapsed": false,
        "id": "F8wfDUqGxKon"
      }
    },
    {
      "cell_type": "code",
      "execution_count": null,
      "outputs": [
        {
          "output_type": "stream",
          "name": "stdout",
          "text": [
            "name\n",
            "age\n",
            "weight\n",
            "height\n"
          ]
        }
      ],
      "source": [
        "characteristics = ['name', 'age', 'weight', 'height']\n",
        "for characteristic in characteristics:\n",
        "    print(characteristic)"
      ],
      "metadata": {
        "colab": {
          "base_uri": "https://localhost:8080/"
        },
        "id": "pSHV27XKxKon",
        "outputId": "90941aeb-5d1f-4f78-df6d-b773ff9d771d"
      }
    },
    {
      "cell_type": "markdown",
      "source": [
        "# 3.3.3. Задание"
      ],
      "metadata": {
        "collapsed": false,
        "id": "48BoZyVaxKoo"
      }
    },
    {
      "cell_type": "markdown",
      "source": [
        "Создать список чисел от 2 до 15 с шагом 1."
      ],
      "metadata": {
        "collapsed": false,
        "id": "n9Uy7sFbxKoo"
      }
    },
    {
      "cell_type": "code",
      "execution_count": null,
      "outputs": [
        {
          "name": "stdout",
          "output_type": "stream",
          "text": [
            "[2, 3, 4, 5, 6, 7, 8, 9, 10, 11, 12, 13, 14, 15]\n"
          ]
        }
      ],
      "source": [
        "list_int = list(range(2, 16))\n",
        "print(list_int)"
      ],
      "metadata": {
        "id": "hGN49jsPxKoo",
        "outputId": "ec925bf9-bd94-49e3-a1d8-87600a8bf506"
      }
    },
    {
      "cell_type": "markdown",
      "source": [
        "# 3.3.4. Задание"
      ],
      "metadata": {
        "collapsed": false,
        "id": "W_crn9gWxKoo"
      }
    },
    {
      "cell_type": "markdown",
      "source": [
        "Выведите числа из примера на for c функцией range() (3.2.4) в обратном порядке."
      ],
      "metadata": {
        "collapsed": false,
        "id": "_B0KxS0VxKoo"
      }
    },
    {
      "cell_type": "code",
      "execution_count": null,
      "outputs": [
        {
          "name": "stdout",
          "output_type": "stream",
          "text": [
            "105\n",
            "80\n",
            "55\n",
            "30\n",
            "5\n"
          ]
        }
      ],
      "source": [
        "for i in range(105, 4, -25):\n",
        "    print(i)"
      ],
      "metadata": {
        "id": "8MzQ3W3ixKop",
        "outputId": "faa2643a-f27d-47e0-8edf-1fc9b5f49df5"
      }
    },
    {
      "cell_type": "markdown",
      "source": [
        "# 3.3.5. Задание"
      ],
      "metadata": {
        "collapsed": false,
        "id": "QBV_C4gbxKop"
      }
    },
    {
      "cell_type": "markdown",
      "source": [
        "Срез. Напишите код, который все элементы массива x с четными индексами переставит в обратном порядке. Т.е. если $x = [0, 1, 2, 3, 4, 5, 6, 7, 8, 9]$, то код должен сформировать $[8, 1, 6, 3, 4, 5, 2, 7, 0, 9]$."
      ],
      "metadata": {
        "collapsed": false,
        "id": "WyBbnaBSxKop"
      }
    },
    {
      "cell_type": "code",
      "execution_count": 1,
      "outputs": [
        {
          "output_type": "stream",
          "name": "stdout",
          "text": [
            "[8, 1, 6, 3, 4, 5, 2, 7, 0, 9]\n"
          ]
        }
      ],
      "source": [
        "x = [0, 1, 2, 3, 4, 5, 6, 7, 8, 9]\n",
        "y = x[::2]\n",
        "x[::2] = y[::-1]\n",
        "print(x)"
      ],
      "metadata": {
        "colab": {
          "base_uri": "https://localhost:8080/"
        },
        "id": "K77zqjEsxKop",
        "outputId": "74c4339b-98c4-4a44-d0e5-628e01653422"
      }
    },
    {
      "cell_type": "markdown",
      "source": [
        "# 4.2.1. Пример"
      ],
      "metadata": {
        "id": "Sv3rlkh8WjL9"
      }
    },
    {
      "cell_type": "markdown",
      "source": [
        "Рассчитать синус от е радиан и вывести результат на экран"
      ],
      "metadata": {
        "id": "a_rhU9vHWu7B"
      }
    },
    {
      "cell_type": "code",
      "source": [
        "import math as m\n",
        "print(m.sin(m.e))"
      ],
      "metadata": {
        "colab": {
          "base_uri": "https://localhost:8080/"
        },
        "id": "eL4l6e3dWvwX",
        "outputId": "2aa32ca4-a41a-437b-d49c-cc72b5beaf94"
      },
      "execution_count": null,
      "outputs": [
        {
          "output_type": "stream",
          "name": "stdout",
          "text": [
            "0.41078129050290885\n"
          ]
        }
      ]
    },
    {
      "cell_type": "markdown",
      "source": [
        "# 4.2.2. Пример"
      ],
      "metadata": {
        "id": "VPoC8BxQW9Cm"
      }
    },
    {
      "cell_type": "markdown",
      "source": [
        "Для функции $\\sin(xe^{\\cos(x)})$ на интервале [0;10] с шагом 0,05 построить график функции, закрасить площадь под ним и вычислить значение этой площади. Для вычисления площади воспользуйтесь функцией trapz(), вычисляющей интеграл по правилу трапеции. Для ее корректной работы необходимо подключить следующие библиотеки:\n",
        "from scipy.integrate import simps\n",
        "from numpy import trapz"
      ],
      "metadata": {
        "id": "OpO-y6OUW_n_"
      }
    },
    {
      "cell_type": "code",
      "source": [
        "import numpy as np\n",
        "import matplotlib.pyplot as plt\n",
        "from scipy.integrate import simps\n",
        "from numpy import trapz\n",
        "x = np.arange(0.0, 10, 0.05)\n",
        "y = np.abs(np.sin(x*np.exp(np.cos(x))))\n",
        "plt.grid()\n",
        "plt.plot(x, y, c = \"r\")\n",
        "plt.fill_between(x, y)\n",
        "\n",
        "area = trapz(y)\n",
        "print(area)"
      ],
      "metadata": {
        "colab": {
          "base_uri": "https://localhost:8080/",
          "height": 282
        },
        "id": "bp58oHJ1Xeus",
        "outputId": "0a1e4c0c-fbe2-435b-970c-48b2656fe31b"
      },
      "execution_count": 4,
      "outputs": [
        {
          "output_type": "stream",
          "name": "stdout",
          "text": [
            "147.71302411239634\n"
          ]
        },
        {
          "output_type": "display_data",
          "data": {
            "text/plain": [
              "<Figure size 432x288 with 1 Axes>"
            ],
            "image/png": "[encoded data removed]"
          },
          "metadata": {
            "needs_background": "light"
          }
        }
      ]
    },
    {
      "cell_type": "markdown",
      "source": [
        "# 4.2.3. Пример"
      ],
      "metadata": {
        "id": "c3w13nJEYOQJ"
      }
    },
    {
      "cell_type": "markdown",
      "source": [
        "Дано некоторое распределение оценок в группе за экзамен. Нарисовать круговую и точечную диаграммы распределения. "
      ],
      "metadata": {
        "id": "Dyjt6PKLYQCB"
      }
    },
    {
      "cell_type": "code",
      "source": [
        "from matplotlib import pyplot as plt\n",
        "import numpy as np\n",
        "\n",
        "marks = ['Неуд', 'Удовл', 'Хор', 'Отл']\n",
        "\n",
        "data = [3, 7, 8, 4]\n",
        "fig = plt.figure(figsize =(10, 7))\n",
        "plt.pie(data, labels = marks)\n",
        "plt.show()\n",
        "plt.grid()\n",
        "plt.scatter(marks, data)"
      ],
      "metadata": {
        "colab": {
          "base_uri": "https://localhost:8080/",
          "height": 676
        },
        "id": "T7XlBGNrYSpp",
        "outputId": "d69f4dde-3349-45c8-c305-4a94ae57a8c6"
      },
      "execution_count": 10,
      "outputs": [
        {
          "output_type": "display_data",
          "data": {
            "text/plain": [
              "<Figure size 720x504 with 1 Axes>"
            ],
            "image/png": "[encoded data removed]"
          },
          "metadata": {}
        },
        {
          "output_type": "execute_result",
          "data": {
            "text/plain": [
              "<matplotlib.collections.PathCollection at 0x7f82b63b9160>"
            ]
          },
          "metadata": {},
          "execution_count": 10
        },
        {
          "output_type": "display_data",
          "data": {
            "text/plain": [
              "<Figure size 432x288 with 1 Axes>"
            ],
            "image/png": "[encoded data removed]"
          },
          "metadata": {
            "needs_background": "light"
          }
        }
      ]
    },
    {
      "cell_type": "markdown",
      "source": [
        "# 4.3.1. Задание"
      ],
      "metadata": {
        "collapsed": false,
        "id": "POpIlUZPxKop"
      }
    },
    {
      "cell_type": "markdown",
      "source": [
        "Задайте массив случайных значений из интервала $(0; 1)$.\n",
        "Рассчитайте средние и медианные значения для массива, сравните результаты, какие выводы можно сделать о значениях?\n",
        "Постройте точечную диаграмму рассения полученного ряда."
      ],
      "metadata": {
        "collapsed": false,
        "id": "vlMtYnnIxKoq"
      }
    },
    {
      "cell_type": "code",
      "execution_count": 11,
      "outputs": [
        {
          "output_type": "stream",
          "name": "stdout",
          "text": [
            "0.4227210838780213\n",
            "0.4361312770545831\n"
          ]
        },
        {
          "output_type": "execute_result",
          "data": {
            "text/plain": [
              "<matplotlib.collections.PathCollection at 0x7f82b6355850>"
            ]
          },
          "metadata": {},
          "execution_count": 11
        },
        {
          "output_type": "display_data",
          "data": {
            "text/plain": [
              "<Figure size 432x288 with 1 Axes>"
            ],
            "image/png": "[encoded data removed]"
          },
          "metadata": {
            "needs_background": "light"
          }
        }
      ],
      "source": [
        "import numpy as np\n",
        "from matplotlib import pyplot as plt\n",
        "\n",
        "arr = np.random.sample(50)\n",
        "print(np.median(arr))\n",
        "print(np.mean(arr))\n",
        "plt.grid()\n",
        "plt.scatter(arr, arr)"
      ],
      "metadata": {
        "id": "dauc7BCoxKoq",
        "outputId": "3ca42155-9289-46e0-8441-d3df9ca1e43a",
        "colab": {
          "base_uri": "https://localhost:8080/",
          "height": 317
        }
      }
    },
    {
      "cell_type": "markdown",
      "source": [
        "# 4.3.2. Задание"
      ],
      "metadata": {
        "collapsed": false,
        "id": "ssHfuwI0xKoq"
      }
    },
    {
      "cell_type": "markdown",
      "source": [
        "Дана функция $\\frac{\\sqrt{1+e^\\sqrt{x}+\\cos x^2}}{|1-\\sin^3x|}+\\ln|2x|$;\n",
        "Создать массив из 10 значений функции ($x$, например, изменяется от 1 до 10). Выделить срез первой половины массива и построить графики для основного массива – линейный и для среза – точечный"
      ],
      "metadata": {
        "collapsed": false,
        "id": "LP0ar5xvxKoq"
      }
    },
    {
      "cell_type": "code",
      "execution_count": 20,
      "outputs": [
        {
          "output_type": "execute_result",
          "data": {
            "text/plain": [
              "<matplotlib.collections.PathCollection at 0x7f82ad3817c0>"
            ]
          },
          "metadata": {},
          "execution_count": 20
        },
        {
          "output_type": "display_data",
          "data": {
            "text/plain": [
              "<Figure size 432x288 with 1 Axes>"
            ],
            "image/png": "[encoded data removed]"
          },
          "metadata": {
            "needs_background": "light"
          }
        }
      ],
      "source": [
        "import numpy as np\n",
        "from matplotlib import pyplot as plt\n",
        "\n",
        "x = np.arange(1, 11, 1)\n",
        "a = np.sqrt(1 + np.e ** np.sqrt(x) + np.cos(x ** 2))\n",
        "b = np.fabs(1 - np.sin(x) ** 3)\n",
        "c = np.log(2*x)\n",
        "y = a / b + c\n",
        "plt.plot(x, y)\n",
        "plt.scatter(x[:5], y[:5])"
      ],
      "metadata": {
        "id": "hEREN-03xKor",
        "outputId": "50a63eb9-c632-4160-8e29-5b19edda108b",
        "colab": {
          "base_uri": "https://localhost:8080/",
          "height": 282
        }
      }
    },
    {
      "cell_type": "markdown",
      "source": [
        "# 4.3.3. Задание"
      ],
      "metadata": {
        "collapsed": false,
        "id": "qVzHYjEHxKor"
      }
    },
    {
      "cell_type": "markdown",
      "source": [
        "Дана функция $|cos(x e^{\\cos(x)+\\ln(x+1)})|$. Построить график на интервале (0,10) с шагом 1 с заливкой площади и найти эту площадь под ним.\n",
        "Для вычисления площади воспользуйтесь функцией `trapz()`, вычисляющей интеграл по правилу трапеции.\n"
      ],
      "metadata": {
        "collapsed": false,
        "id": "R6qHO0IrxKor"
      }
    },
    {
      "cell_type": "code",
      "execution_count": 15,
      "outputs": [
        {
          "output_type": "stream",
          "name": "stdout",
          "text": [
            "5.769270352360252\n"
          ]
        },
        {
          "output_type": "display_data",
          "data": {
            "text/plain": [
              "<Figure size 432x288 with 1 Axes>"
            ],
            "image/png": "[encoded data removed]"
          },
          "metadata": {
            "needs_background": "light"
          }
        }
      ],
      "source": [
        "import numpy as np\n",
        "from matplotlib import pyplot as plt\n",
        "from numpy import trapz\n",
        "\n",
        "x = np.arange(1, 11, 1)\n",
        "y =  np.fabs(np.cos(x * np.e ** (np.cos(x) + np.log(x + 1))))\n",
        "plt.grid()\n",
        "plt.plot(x, y, c='r')\n",
        "plt.fill_between(x, y)\n",
        "\n",
        "area = trapz(y)\n",
        "print(area)"
      ],
      "metadata": {
        "colab": {
          "base_uri": "https://localhost:8080/",
          "height": 283
        },
        "id": "YtTK5WCdxKos",
        "outputId": "fd3b20a2-fb90-4360-f110-af89d7af4010"
      }
    },
    {
      "cell_type": "markdown",
      "source": [
        "# 4.3.4. Задание"
      ],
      "metadata": {
        "collapsed": false,
        "id": "1kd7yFjYxKos"
      }
    },
    {
      "cell_type": "markdown",
      "source": [
        "Откройте статистические данные по стоимости акций Apple, Microsoft, Google за 12 месяцев 2021 г.\n",
        "Постройте 3 графика на плоскости и оцените их динамику.\n",
        "Подумайте, как можно улучшить читаемость результатов.\n"
      ],
      "metadata": {
        "collapsed": false,
        "id": "2DrHtPUwxKos"
      }
    },
    {
      "cell_type": "code",
      "execution_count": null,
      "outputs": [
        {
          "output_type": "execute_result",
          "data": {
            "text/plain": [
              "[<matplotlib.lines.Line2D at 0x7f828b7dcca0>]"
            ]
          },
          "metadata": {},
          "execution_count": 26
        },
        {
          "output_type": "display_data",
          "data": {
            "text/plain": [
              "<Figure size 432x288 with 1 Axes>"
            ],
            "image/png": "[encoded data removed]"
          },
          "metadata": {
            "needs_background": "light"
          }
        }
      ],
      "source": [
        "months = [1, 2, 3, 4, 5, 6, 7, 8, 9, 10, 11, 12]\n",
        "Apple = [131.96, 121.26, 122.15, 131.46, 124.61, 136.96, 145.86, 151.83, 141.5, 149.8, 165.3, 177.57]\n",
        "Microsoft = [231.96, 232.38, 235.77, 252.18, 249.68, 270.9, 284.91, 301.88, 281.92, 331.62, 330.59, 336.32]\n",
        "Google = [91.37, 101.1, 103.13, 117.68, 117.84, 122.09, 134.73, 144.7, 133.68, 148.05, 141.9, 144.85]\n",
        "\n",
        "plt.grid()\n",
        "plt.plot(months, Apple, c='r')\n",
        "plt.plot(months, Microsoft, c='g')\n",
        "plt.plot(months, Google, c='b')"
      ],
      "metadata": {
        "colab": {
          "base_uri": "https://localhost:8080/",
          "height": 282
        },
        "id": "t2--Zvn4xKos",
        "outputId": "a9de257a-eacf-4af3-883f-3621454b9c82"
      }
    },
    {
      "cell_type": "markdown",
      "source": [
        "# 4.3.5. Задание"
      ],
      "metadata": {
        "collapsed": false,
        "id": "_VBCQyrCxKos"
      }
    },
    {
      "cell_type": "markdown",
      "source": [
        "Создайте простейший калькулятор, включающий основные действия\n",
        "для двух переменных '$+$', '$-$', '$\\cdot$', '$\\div$', а также вычисление\n",
        "следующих функций: $e^{x+y}$, $\\sin(x+y)$, $\\cos(x+y)$, $x^y$.\n"
      ],
      "metadata": {
        "collapsed": false,
        "id": "5afmTR5TxKot"
      }
    },
    {
      "cell_type": "code",
      "execution_count": 17,
      "outputs": [
        {
          "output_type": "stream",
          "name": "stdout",
          "text": [
            "5 -5\n",
            "5.0 + -5.0 = 0.0\n",
            "5.0 - -5.0 = 10.0\n",
            "5.0 * -5.0 = -25.0\n",
            "5.0 / -5.0 = -1.0\n",
            "e^(5.0 + -5.0) = 1.0\n",
            "sin(5.0 + -5.0) = 0.0\n",
            "cos(5.0 + -5.0) = 1.0\n",
            "5.0 ^ -5.0 = 0.00032\n"
          ]
        }
      ],
      "source": [
        "import math\n",
        "\n",
        "x, y = map(float, input().split())\n",
        "print(f'{x} + {y} = {x + y}')\n",
        "print(f'{x} - {y} = {x - y}')\n",
        "print(f'{x} * {y} = {x * y}')\n",
        "print(f'{x} / {y} = {x / y}')\n",
        "print(f'e^({x} + {y}) = {math.exp(x + y)}')\n",
        "print(f'sin({x} + {y}) = {math.sin(x + y)}')\n",
        "print(f'cos({x} + {y}) = {math.cos(x + y)}')\n",
        "print(f'{x} ^ {y} = {x ** y}')"
      ],
      "metadata": {
        "colab": {
          "base_uri": "https://localhost:8080/"
        },
        "id": "wo4WF-HfxKot",
        "outputId": "3d347e84-2148-4665-9256-864fc7608a85"
      }
    }
  ],
  "metadata": {
    "kernelspec": {
      "display_name": "Python 3",
      "language": "python",
      "name": "python3"
    },
    "language_info": {
      "codemirror_mode": {
        "name": "ipython",
        "version": 2
      },
      "file_extension": ".py",
      "mimetype": "text/x-python",
      "name": "python",
      "nbconvert_exporter": "python",
      "pygments_lexer": "ipython2",
      "version": "2.7.6"
    },
    "colab": {
      "provenance": []
    }
  },
  "nbformat": 4,
  "nbformat_minor": 0
}