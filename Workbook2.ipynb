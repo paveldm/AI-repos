{
  "cells": [
    {
      "cell_type": "markdown",
      "source": [
        "# 1.3.1 Задание"
      ],
      "metadata": {
        "collapsed": false,
        "id": "hat-eQD7RmUu"
      }
    },
    {
      "cell_type": "markdown",
      "source": [
        "Создать 8x8 матрицу и заполнить её в шахматном порядке нулями и единицами."
      ],
      "metadata": {
        "collapsed": false,
        "id": "xoOZn-ukRmUy"
      }
    },
    {
      "cell_type": "code",
      "execution_count": null,
      "outputs": [
        {
          "name": "stdout",
          "output_type": "stream",
          "text": [
            "[[0 1 0 1 0 1 0 1]\n",
            " [1 0 1 0 1 0 1 0]\n",
            " [0 1 0 1 0 1 0 1]\n",
            " [1 0 1 0 1 0 1 0]\n",
            " [0 1 0 1 0 1 0 1]\n",
            " [1 0 1 0 1 0 1 0]\n",
            " [0 1 0 1 0 1 0 1]\n",
            " [1 0 1 0 1 0 1 0]]\n"
          ]
        }
      ],
      "source": [
        "import numpy as np\n",
        "arr = np.fromfunction(lambda i, j: (i + j) % 2, (8, 8), dtype=int)\n",
        "print(arr)"
      ],
      "metadata": {
        "id": "3VEUnQq-RmUz",
        "outputId": "8fa6a422-71a9-4fe8-e6e3-81f6333cb37f"
      }
    },
    {
      "cell_type": "markdown",
      "source": [
        "# 1.3.2 Задание"
      ],
      "metadata": {
        "collapsed": false,
        "id": "zj-osK3JRmU1"
      }
    },
    {
      "cell_type": "markdown",
      "source": [
        "Создать 5x5 матрицу со значениями в строках от 0 до 4. Для создания необходимо использовать функцию arrange."
      ],
      "metadata": {
        "collapsed": false,
        "id": "KVFI5rrcRmU1"
      }
    },
    {
      "cell_type": "code",
      "execution_count": null,
      "outputs": [
        {
          "name": "stdout",
          "output_type": "stream",
          "text": [
            "[[0 1 2 3 4]\n",
            " [0 1 2 3 4]\n",
            " [0 1 2 3 4]\n",
            " [0 1 2 3 4]\n",
            " [0 1 2 3 4]]\n"
          ]
        }
      ],
      "source": [
        "import numpy as np\n",
        "\n",
        "arr = np.array([np.arange(0, 5) for _ in range(5)])\n",
        "print(arr)"
      ],
      "metadata": {
        "id": "NUIod-WTRmU1",
        "outputId": "99a89f0d-2f50-4fc5-9e09-456f8b20d9de"
      }
    },
    {
      "cell_type": "markdown",
      "source": [
        "# 1.3.3 Задание"
      ],
      "metadata": {
        "collapsed": false,
        "id": "lcUOv-wSRmU2"
      }
    },
    {
      "cell_type": "markdown",
      "source": [
        "Создать массив 3x3x3 со случайными значениями.\n"
      ],
      "metadata": {
        "collapsed": false,
        "id": "UnDBAQVFRmU2"
      }
    },
    {
      "cell_type": "code",
      "execution_count": null,
      "outputs": [
        {
          "name": "stdout",
          "output_type": "stream",
          "text": [
            "[[[0.19645526 0.89335863 0.79461325]\n",
            "  [0.66141762 0.34307593 0.47466567]\n",
            "  [0.3919623  0.61044335 0.49656643]]\n",
            "\n",
            " [[0.74896451 0.2144444  0.33471207]\n",
            "  [0.72672203 0.56212592 0.26123182]\n",
            "  [0.84649095 0.560324   0.87890632]]\n",
            "\n",
            " [[0.83598744 0.0490868  0.31255472]\n",
            "  [0.19184223 0.27985259 0.85823724]\n",
            "  [0.26096626 0.86663426 0.77666445]]]\n"
          ]
        }
      ],
      "source": [
        "import numpy as np\n",
        "\n",
        "arr = np.random.random((3, 3, 3))\n",
        "print(arr)"
      ],
      "metadata": {
        "id": "urnpymmmRmU3",
        "outputId": "a858e43a-1bf9-4a8c-f646-583cecd724f7"
      }
    },
    {
      "cell_type": "markdown",
      "source": [
        "# 1.3.4 Задание\n"
      ],
      "metadata": {
        "collapsed": false,
        "id": "sfDoNmSfRmU3"
      }
    },
    {
      "cell_type": "markdown",
      "source": [
        "Создать матрицу с 0 внутри, и 1 на границах."
      ],
      "metadata": {
        "collapsed": false,
        "id": "sLthH2a1RmU3"
      }
    },
    {
      "cell_type": "code",
      "execution_count": null,
      "outputs": [
        {
          "name": "stdout",
          "output_type": "stream",
          "text": [
            "[[1 1 1 1 1 1 1 1 1 1]\n",
            " [1 0 0 0 0 0 0 0 0 1]\n",
            " [1 0 0 0 0 0 0 0 0 1]\n",
            " [1 0 0 0 0 0 0 0 0 1]\n",
            " [1 0 0 0 0 0 0 0 0 1]\n",
            " [1 0 0 0 0 0 0 0 0 1]\n",
            " [1 0 0 0 0 0 0 0 0 1]\n",
            " [1 0 0 0 0 0 0 0 0 1]\n",
            " [1 0 0 0 0 0 0 0 0 1]\n",
            " [1 1 1 1 1 1 1 1 1 1]]\n"
          ]
        }
      ],
      "source": [
        "import numpy as np\n",
        "n = 10\n",
        "m = 10\n",
        "arr = np.ones((n, m), dtype=int)\n",
        "arr[1:n-1, 1:m-1] = 0\n",
        "print(arr)"
      ],
      "metadata": {
        "id": "srDWJ0BrRmU4",
        "outputId": "2d2ed0e1-b6cf-4d2f-a1ba-ce07da89f3bb"
      }
    },
    {
      "cell_type": "markdown",
      "source": [
        "# 1.3.5 Задание"
      ],
      "metadata": {
        "collapsed": false,
        "id": "z5Rd6rieRmU4"
      }
    },
    {
      "cell_type": "markdown",
      "source": [
        "Создайте массив и отсортируйте его по убыванию."
      ],
      "metadata": {
        "collapsed": false,
        "id": "o_IXJnXHRmU4"
      }
    },
    {
      "cell_type": "code",
      "execution_count": null,
      "outputs": [
        {
          "name": "stdout",
          "output_type": "stream",
          "text": [
            "[0.94076083 0.86051002 0.85133816 0.84280757 0.83493334 0.73029939\n",
            " 0.59826431 0.52472054 0.20913221 0.17229839]\n"
          ]
        }
      ],
      "source": [
        "import numpy as np\n",
        "\n",
        "n = 10\n",
        "arr = np.random.random(n)\n",
        "arr = -np.sort(-arr)\n",
        "print(arr)"
      ],
      "metadata": {
        "id": "jtvRuuwjRmU4",
        "outputId": "f7652c59-6eb7-44e3-bcc5-5bca1ba11103"
      }
    },
    {
      "cell_type": "markdown",
      "source": [
        "# 1.3.6 Задание\n"
      ],
      "metadata": {
        "collapsed": false,
        "id": "sIXQVQf0RmU5"
      }
    },
    {
      "cell_type": "markdown",
      "source": [
        "Создайте матрицу, выведите ее форму, размер и размерность"
      ],
      "metadata": {
        "collapsed": false,
        "id": "NSMXVOrrRmU5"
      }
    },
    {
      "cell_type": "code",
      "execution_count": null,
      "outputs": [
        {
          "name": "stdout",
          "output_type": "stream",
          "text": [
            "(3, 3) 9 2\n"
          ]
        }
      ],
      "source": [
        "import numpy as np\n",
        "\n",
        "matrix = np.matrix(np.arange(1, 10).reshape((3, 3)))\n",
        "\n",
        "print(matrix.shape, matrix.size, matrix.ndim)"
      ],
      "metadata": {
        "id": "DY39_vkmRmU5",
        "outputId": "126f44ac-bf11-4e1e-a9b0-dce77f29ce0d"
      }
    },
    {
      "cell_type": "markdown",
      "source": [],
      "metadata": {
        "collapsed": false,
        "id": "XPXmqdD9RmU6"
      }
    },
    {
      "cell_type": "markdown",
      "source": [
        "# 2.3.1 Задание"
      ],
      "metadata": {
        "collapsed": false,
        "id": "OD4R2Xs6RmU6"
      }
    },
    {
      "cell_type": "markdown",
      "source": [
        "Найдите евклидово расстояние между двумя Series (точками) a и b, не используя встроенную формулу"
      ],
      "metadata": {
        "collapsed": false,
        "id": "wtKjIWIKRmU6"
      }
    },
    {
      "cell_type": "code",
      "execution_count": null,
      "outputs": [
        {
          "name": "stdout",
          "output_type": "stream",
          "text": [
            "4.123105625617661\n"
          ]
        }
      ],
      "source": [
        "import pandas as pd\n",
        "\n",
        "\n",
        "a = pd.Series([3, 5])\n",
        "b = pd.Series([7, 4])\n",
        "\n",
        "print(sum((a - b) ** 2) ** 0.5)\n"
      ],
      "metadata": {
        "id": "I8IT2oGmRmU6",
        "outputId": "0ec86cac-3fe6-472f-bf91-9d45515b5e98"
      }
    },
    {
      "cell_type": "markdown",
      "source": [
        "# 2.3.2 Задание\n"
      ],
      "metadata": {
        "collapsed": false,
        "id": "QGZCBVFrRmU7"
      }
    },
    {
      "cell_type": "markdown",
      "source": [
        "Найдите в Интернете ссылку на любой csv файл и сформируйте из него фрейм данных."
      ],
      "metadata": {
        "collapsed": false,
        "id": "gSolLrlhRmU7"
      }
    },
    {
      "cell_type": "code",
      "execution_count": null,
      "outputs": [
        {
          "data": {
            "text/plain": "             Name                         Country                Company  \\\n0    Brenden Cote        Central African Republic            Metus Corp.   \n1    Justina Reed                         Namibia           Lobortis Ltd   \n2   Daquan Vinson  Svalbard and Jan Mayen Islands        A Mi Consulting   \n3  Connor Shelton                            Niue  Parturient Consulting   \n4    Drew Carlson                         Mayotte    Interdum Associates   \n\n           Date  Sales  \n0  Feb 17, 2018  67044  \n1  Apr 27, 2017  89517  \n2  Aug 14, 2016  62705  \n3  Feb 13, 2017  12675  \n4  Sep 26, 2017  86670  ",
            "text/html": "<div>\n<style scoped>\n    .dataframe tbody tr th:only-of-type {\n        vertical-align: middle;\n    }\n\n    .dataframe tbody tr th {\n        vertical-align: top;\n    }\n\n    .dataframe thead th {\n        text-align: right;\n    }\n</style>\n<table border=\"1\" class=\"dataframe\">\n  <thead>\n    <tr style=\"text-align: right;\">\n      <th></th>\n      <th>Name</th>\n      <th>Country</th>\n      <th>Company</th>\n      <th>Date</th>\n      <th>Sales</th>\n    </tr>\n  </thead>\n  <tbody>\n    <tr>\n      <th>0</th>\n      <td>Brenden Cote</td>\n      <td>Central African Republic</td>\n      <td>Metus Corp.</td>\n      <td>Feb 17, 2018</td>\n      <td>67044</td>\n    </tr>\n    <tr>\n      <th>1</th>\n      <td>Justina Reed</td>\n      <td>Namibia</td>\n      <td>Lobortis Ltd</td>\n      <td>Apr 27, 2017</td>\n      <td>89517</td>\n    </tr>\n    <tr>\n      <th>2</th>\n      <td>Daquan Vinson</td>\n      <td>Svalbard and Jan Mayen Islands</td>\n      <td>A Mi Consulting</td>\n      <td>Aug 14, 2016</td>\n      <td>62705</td>\n    </tr>\n    <tr>\n      <th>3</th>\n      <td>Connor Shelton</td>\n      <td>Niue</td>\n      <td>Parturient Consulting</td>\n      <td>Feb 13, 2017</td>\n      <td>12675</td>\n    </tr>\n    <tr>\n      <th>4</th>\n      <td>Drew Carlson</td>\n      <td>Mayotte</td>\n      <td>Interdum Associates</td>\n      <td>Sep 26, 2017</td>\n      <td>86670</td>\n    </tr>\n  </tbody>\n</table>\n</div>"
          },
          "execution_count": 26,
          "metadata": {},
          "output_type": "execute_result"
        }
      ],
      "source": [
        "url = 'https://raw.githubusercontent.com/chrisalbon/sim_data/master/sales.csv'\n",
        "dataframe = pd.read_csv(url)\n",
        "dataframe.head(5)"
      ],
      "metadata": {
        "id": "G9hJBUlARmU7",
        "outputId": "f9013688-1ae9-49b8-be82-705eb7efc372"
      }
    },
    {
      "cell_type": "markdown",
      "source": [
        "# 2.3.3 Задание"
      ],
      "metadata": {
        "collapsed": false,
        "id": "D_iVMx4vRmU7"
      }
    },
    {
      "cell_type": "code",
      "execution_count": null,
      "outputs": [
        {
          "data": {
            "text/plain": "           Name                   Country       Company          Date  Sales\n0  Brenden Cote  Central African Republic   Metus Corp.  Feb 17, 2018  67044\n1  Justina Reed                   Namibia  Lobortis Ltd  Apr 27, 2017  89517",
            "text/html": "<div>\n<style scoped>\n    .dataframe tbody tr th:only-of-type {\n        vertical-align: middle;\n    }\n\n    .dataframe tbody tr th {\n        vertical-align: top;\n    }\n\n    .dataframe thead th {\n        text-align: right;\n    }\n</style>\n<table border=\"1\" class=\"dataframe\">\n  <thead>\n    <tr style=\"text-align: right;\">\n      <th></th>\n      <th>Name</th>\n      <th>Country</th>\n      <th>Company</th>\n      <th>Date</th>\n      <th>Sales</th>\n    </tr>\n  </thead>\n  <tbody>\n    <tr>\n      <th>0</th>\n      <td>Brenden Cote</td>\n      <td>Central African Republic</td>\n      <td>Metus Corp.</td>\n      <td>Feb 17, 2018</td>\n      <td>67044</td>\n    </tr>\n    <tr>\n      <th>1</th>\n      <td>Justina Reed</td>\n      <td>Namibia</td>\n      <td>Lobortis Ltd</td>\n      <td>Apr 27, 2017</td>\n      <td>89517</td>\n    </tr>\n  </tbody>\n</table>\n</div>"
          },
          "execution_count": 38,
          "metadata": {},
          "output_type": "execute_result"
        }
      ],
      "source": [
        "dataframe.head(2)"
      ],
      "metadata": {
        "id": "2m0teBWMRmU7",
        "outputId": "a4de2576-b8d2-4804-9791-3e6523696fb9"
      }
    },
    {
      "cell_type": "code",
      "execution_count": null,
      "outputs": [
        {
          "data": {
            "text/plain": "             Name      Country             Company          Date  Sales\n97  Libby Lindsey        Qatar     Convallis Corp.   Nov 5, 2016  10583\n98   Cody Langley  Isle of Man  Est Mollis Company   Oct 9, 2017  98167\n99   Colt Schultz   Guadeloupe  Dolor Nonummy Inc.  Nov 18, 2017  39988",
            "text/html": "<div>\n<style scoped>\n    .dataframe tbody tr th:only-of-type {\n        vertical-align: middle;\n    }\n\n    .dataframe tbody tr th {\n        vertical-align: top;\n    }\n\n    .dataframe thead th {\n        text-align: right;\n    }\n</style>\n<table border=\"1\" class=\"dataframe\">\n  <thead>\n    <tr style=\"text-align: right;\">\n      <th></th>\n      <th>Name</th>\n      <th>Country</th>\n      <th>Company</th>\n      <th>Date</th>\n      <th>Sales</th>\n    </tr>\n  </thead>\n  <tbody>\n    <tr>\n      <th>97</th>\n      <td>Libby Lindsey</td>\n      <td>Qatar</td>\n      <td>Convallis Corp.</td>\n      <td>Nov 5, 2016</td>\n      <td>10583</td>\n    </tr>\n    <tr>\n      <th>98</th>\n      <td>Cody Langley</td>\n      <td>Isle of Man</td>\n      <td>Est Mollis Company</td>\n      <td>Oct 9, 2017</td>\n      <td>98167</td>\n    </tr>\n    <tr>\n      <th>99</th>\n      <td>Colt Schultz</td>\n      <td>Guadeloupe</td>\n      <td>Dolor Nonummy Inc.</td>\n      <td>Nov 18, 2017</td>\n      <td>39988</td>\n    </tr>\n  </tbody>\n</table>\n</div>"
          },
          "execution_count": 39,
          "metadata": {},
          "output_type": "execute_result"
        }
      ],
      "source": [
        "dataframe.tail(3)"
      ],
      "metadata": {
        "id": "m0bTvRSLRmU8",
        "outputId": "c9b7f044-1e3d-4a59-cf8d-962b82a1dd50"
      }
    },
    {
      "cell_type": "code",
      "execution_count": null,
      "outputs": [
        {
          "name": "stdout",
          "output_type": "stream",
          "text": [
            "(100, 5)\n"
          ]
        }
      ],
      "source": [
        "print(dataframe.shape)"
      ],
      "metadata": {
        "id": "5-BDjdaIRmU8",
        "outputId": "2220c78c-f8a0-4a8c-c699-543fa91dee9e"
      }
    },
    {
      "cell_type": "code",
      "execution_count": null,
      "outputs": [
        {
          "data": {
            "text/plain": "              Sales\ncount    100.000000\nmean   51892.470000\nstd    29707.005083\nmin       59.000000\n25%    29415.750000\n50%    48845.500000\n75%    77878.000000\nmax    99880.000000",
            "text/html": "<div>\n<style scoped>\n    .dataframe tbody tr th:only-of-type {\n        vertical-align: middle;\n    }\n\n    .dataframe tbody tr th {\n        vertical-align: top;\n    }\n\n    .dataframe thead th {\n        text-align: right;\n    }\n</style>\n<table border=\"1\" class=\"dataframe\">\n  <thead>\n    <tr style=\"text-align: right;\">\n      <th></th>\n      <th>Sales</th>\n    </tr>\n  </thead>\n  <tbody>\n    <tr>\n      <th>count</th>\n      <td>100.000000</td>\n    </tr>\n    <tr>\n      <th>mean</th>\n      <td>51892.470000</td>\n    </tr>\n    <tr>\n      <th>std</th>\n      <td>29707.005083</td>\n    </tr>\n    <tr>\n      <th>min</th>\n      <td>59.000000</td>\n    </tr>\n    <tr>\n      <th>25%</th>\n      <td>29415.750000</td>\n    </tr>\n    <tr>\n      <th>50%</th>\n      <td>48845.500000</td>\n    </tr>\n    <tr>\n      <th>75%</th>\n      <td>77878.000000</td>\n    </tr>\n    <tr>\n      <th>max</th>\n      <td>99880.000000</td>\n    </tr>\n  </tbody>\n</table>\n</div>"
          },
          "execution_count": 41,
          "metadata": {},
          "output_type": "execute_result"
        }
      ],
      "source": [
        "dataframe.describe()"
      ],
      "metadata": {
        "id": "BP35cNlkRmU8",
        "outputId": "ba857c7f-0038-49f3-bb67-b961a44a1697"
      }
    },
    {
      "cell_type": "code",
      "execution_count": null,
      "outputs": [
        {
          "data": {
            "text/plain": "             Name                         Country  \\\n2   Daquan Vinson  Svalbard and Jan Mayen Islands   \n3  Connor Shelton                            Niue   \n4    Drew Carlson                         Mayotte   \n5   Yoshio Curtis                    Saint Martin   \n\n                       Company          Date  Sales  \n2              A Mi Consulting  Aug 14, 2016  62705  \n3        Parturient Consulting  Feb 13, 2017  12675  \n4          Interdum Associates  Sep 26, 2017  86670  \n5  Ultrices Sit Amet Institute   Apr 2, 2017  95955  ",
            "text/html": "<div>\n<style scoped>\n    .dataframe tbody tr th:only-of-type {\n        vertical-align: middle;\n    }\n\n    .dataframe tbody tr th {\n        vertical-align: top;\n    }\n\n    .dataframe thead th {\n        text-align: right;\n    }\n</style>\n<table border=\"1\" class=\"dataframe\">\n  <thead>\n    <tr style=\"text-align: right;\">\n      <th></th>\n      <th>Name</th>\n      <th>Country</th>\n      <th>Company</th>\n      <th>Date</th>\n      <th>Sales</th>\n    </tr>\n  </thead>\n  <tbody>\n    <tr>\n      <th>2</th>\n      <td>Daquan Vinson</td>\n      <td>Svalbard and Jan Mayen Islands</td>\n      <td>A Mi Consulting</td>\n      <td>Aug 14, 2016</td>\n      <td>62705</td>\n    </tr>\n    <tr>\n      <th>3</th>\n      <td>Connor Shelton</td>\n      <td>Niue</td>\n      <td>Parturient Consulting</td>\n      <td>Feb 13, 2017</td>\n      <td>12675</td>\n    </tr>\n    <tr>\n      <th>4</th>\n      <td>Drew Carlson</td>\n      <td>Mayotte</td>\n      <td>Interdum Associates</td>\n      <td>Sep 26, 2017</td>\n      <td>86670</td>\n    </tr>\n    <tr>\n      <th>5</th>\n      <td>Yoshio Curtis</td>\n      <td>Saint Martin</td>\n      <td>Ultrices Sit Amet Institute</td>\n      <td>Apr 2, 2017</td>\n      <td>95955</td>\n    </tr>\n  </tbody>\n</table>\n</div>"
          },
          "execution_count": 42,
          "metadata": {},
          "output_type": "execute_result"
        }
      ],
      "source": [
        "dataframe.iloc[2:6]"
      ],
      "metadata": {
        "id": "tzn7b4KNRmU9",
        "outputId": "db3c9059-6ccc-4b66-e08f-94eb8ab3183c"
      }
    },
    {
      "cell_type": "code",
      "execution_count": null,
      "outputs": [
        {
          "data": {
            "text/plain": "               Name Country                 Company          Date  Sales\n22  Piper Daugherty   China              Eu Limited   Jun 7, 2016  56331\n48      Farrah Ward   China  Cursus Et Eros Limited  Jul 31, 2016  77784",
            "text/html": "<div>\n<style scoped>\n    .dataframe tbody tr th:only-of-type {\n        vertical-align: middle;\n    }\n\n    .dataframe tbody tr th {\n        vertical-align: top;\n    }\n\n    .dataframe thead th {\n        text-align: right;\n    }\n</style>\n<table border=\"1\" class=\"dataframe\">\n  <thead>\n    <tr style=\"text-align: right;\">\n      <th></th>\n      <th>Name</th>\n      <th>Country</th>\n      <th>Company</th>\n      <th>Date</th>\n      <th>Sales</th>\n    </tr>\n  </thead>\n  <tbody>\n    <tr>\n      <th>22</th>\n      <td>Piper Daugherty</td>\n      <td>China</td>\n      <td>Eu Limited</td>\n      <td>Jun 7, 2016</td>\n      <td>56331</td>\n    </tr>\n    <tr>\n      <th>48</th>\n      <td>Farrah Ward</td>\n      <td>China</td>\n      <td>Cursus Et Eros Limited</td>\n      <td>Jul 31, 2016</td>\n      <td>77784</td>\n    </tr>\n  </tbody>\n</table>\n</div>"
          },
          "execution_count": 44,
          "metadata": {},
          "output_type": "execute_result"
        }
      ],
      "source": [
        "dataframe[dataframe['Country'] == 'China'].head(2)"
      ],
      "metadata": {
        "id": "c53lVM0gRmU9",
        "outputId": "ccdd84c8-f0e0-49bb-f980-5f3746119e7b"
      }
    },
    {
      "cell_type": "markdown",
      "source": [
        "# 3.3.2 Задание"
      ],
      "metadata": {
        "collapsed": false,
        "id": "IFoCcCk1RmU9"
      }
    },
    {
      "cell_type": "markdown",
      "source": [
        "Необходимо выполнить нормализацию первого числового признака (`sepal_length_cm`) с использованием минимаксного преобразования, а второго (`sepal_width_cm`) с задействованием z-масштабирования."
      ],
      "metadata": {
        "collapsed": false,
        "id": "GknV11U4RmU9"
      }
    },
    {
      "cell_type": "code",
      "execution_count": null,
      "outputs": [
        {
          "name": "stdout",
          "output_type": "stream",
          "text": [
            "sepal_width_cm   -6.631732e-16\n",
            "dtype: float64\n"
          ]
        },
        {
          "data": {
            "text/plain": "     sepal_length_cm  sepal_width_cm  petal_length_cm  petal_width_cm  \\\n0           0.222222        1.032057              1.4             0.2   \n1           0.166667       -0.124958              1.4             0.2   \n2           0.111111        0.337848              1.3             0.2   \n3           0.083333        0.106445              1.5             0.2   \n4           0.194444        1.263460              1.4             0.2   \n..               ...             ...              ...             ...   \n145         0.666667       -0.124958              5.2             2.3   \n146         0.555556       -1.281972              5.0             1.9   \n147         0.611111       -0.124958              5.2             2.0   \n148         0.527778        0.800654              5.4             2.3   \n149         0.444444       -0.124958              5.1             1.8   \n\n       species  \n0       setosa  \n1       setosa  \n2       setosa  \n3       setosa  \n4       setosa  \n..         ...  \n145  virginica  \n146  virginica  \n147  virginica  \n148  virginica  \n149  virginica  \n\n[150 rows x 5 columns]",
            "text/html": "<div>\n<style scoped>\n    .dataframe tbody tr th:only-of-type {\n        vertical-align: middle;\n    }\n\n    .dataframe tbody tr th {\n        vertical-align: top;\n    }\n\n    .dataframe thead th {\n        text-align: right;\n    }\n</style>\n<table border=\"1\" class=\"dataframe\">\n  <thead>\n    <tr style=\"text-align: right;\">\n      <th></th>\n      <th>sepal_length_cm</th>\n      <th>sepal_width_cm</th>\n      <th>petal_length_cm</th>\n      <th>petal_width_cm</th>\n      <th>species</th>\n    </tr>\n  </thead>\n  <tbody>\n    <tr>\n      <th>0</th>\n      <td>0.222222</td>\n      <td>1.032057</td>\n      <td>1.4</td>\n      <td>0.2</td>\n      <td>setosa</td>\n    </tr>\n    <tr>\n      <th>1</th>\n      <td>0.166667</td>\n      <td>-0.124958</td>\n      <td>1.4</td>\n      <td>0.2</td>\n      <td>setosa</td>\n    </tr>\n    <tr>\n      <th>2</th>\n      <td>0.111111</td>\n      <td>0.337848</td>\n      <td>1.3</td>\n      <td>0.2</td>\n      <td>setosa</td>\n    </tr>\n    <tr>\n      <th>3</th>\n      <td>0.083333</td>\n      <td>0.106445</td>\n      <td>1.5</td>\n      <td>0.2</td>\n      <td>setosa</td>\n    </tr>\n    <tr>\n      <th>4</th>\n      <td>0.194444</td>\n      <td>1.263460</td>\n      <td>1.4</td>\n      <td>0.2</td>\n      <td>setosa</td>\n    </tr>\n    <tr>\n      <th>...</th>\n      <td>...</td>\n      <td>...</td>\n      <td>...</td>\n      <td>...</td>\n      <td>...</td>\n    </tr>\n    <tr>\n      <th>145</th>\n      <td>0.666667</td>\n      <td>-0.124958</td>\n      <td>5.2</td>\n      <td>2.3</td>\n      <td>virginica</td>\n    </tr>\n    <tr>\n      <th>146</th>\n      <td>0.555556</td>\n      <td>-1.281972</td>\n      <td>5.0</td>\n      <td>1.9</td>\n      <td>virginica</td>\n    </tr>\n    <tr>\n      <th>147</th>\n      <td>0.611111</td>\n      <td>-0.124958</td>\n      <td>5.2</td>\n      <td>2.0</td>\n      <td>virginica</td>\n    </tr>\n    <tr>\n      <th>148</th>\n      <td>0.527778</td>\n      <td>0.800654</td>\n      <td>5.4</td>\n      <td>2.3</td>\n      <td>virginica</td>\n    </tr>\n    <tr>\n      <th>149</th>\n      <td>0.444444</td>\n      <td>-0.124958</td>\n      <td>5.1</td>\n      <td>1.8</td>\n      <td>virginica</td>\n    </tr>\n  </tbody>\n</table>\n<p>150 rows × 5 columns</p>\n</div>"
          },
          "execution_count": 50,
          "metadata": {},
          "output_type": "execute_result"
        }
      ],
      "source": [
        "from sklearn import preprocessing\n",
        "\n",
        "url = 'https://raw.githubusercontent.com/akmand/datasets/master/iris.csv'\n",
        "dataframe = pd.read_csv(url)\n",
        "\n",
        "scaler1 = preprocessing.MinMaxScaler()\n",
        "scaler2 = preprocessing.StandardScaler()\n",
        "dataframe[['sepal_length_cm']] = scaler1.fit_transform(dataframe[['sepal_length_cm']])\n",
        "dataframe[['sepal_width_cm']] = scaler2.fit_transform(dataframe[['sepal_width_cm']])\n",
        "\n",
        "dataframe"
      ],
      "metadata": {
        "id": "hLFtcS5eRmU-",
        "outputId": "18e48338-50ae-4756-e160-e1a58e52995e"
      }
    }
  ],
  "metadata": {
    "kernelspec": {
      "display_name": "Python 3",
      "language": "python",
      "name": "python3"
    },
    "language_info": {
      "codemirror_mode": {
        "name": "ipython",
        "version": 2
      },
      "file_extension": ".py",
      "mimetype": "text/x-python",
      "name": "python",
      "nbconvert_exporter": "python",
      "pygments_lexer": "ipython2",
      "version": "2.7.6"
    },
    "colab": {
      "provenance": []
    }
  },
  "nbformat": 4,
  "nbformat_minor": 0
}