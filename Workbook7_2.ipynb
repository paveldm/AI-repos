{
  "cells": [
    {
      "cell_type": "markdown",
      "id": "dec33867",
      "metadata": {
        "id": "dec33867"
      },
      "source": [
        "# Задание\n",
        "Реализовать классы нейросетей по аналогии с классом OurNeuralNetwork. \n",
        "Данные нейросети:\n",
        "\n",
        "  -три входа (𝑥1, 𝑥2, 𝑥3);\n",
        "\n",
        "  -три нейрона в скрытых слоях (ℎ1, ℎ2, ℎ3);\n",
        "\n",
        "  -выход (𝑜1).\n",
        "\n",
        "Нейроны имеют идентичные веса и пороги:\n",
        "\n",
        "  -w = [0.5, 0.5, 0.5]\n",
        "\n",
        "  -b = 0\n",
        "\n",
        "Данные нейросети:\n",
        "\n",
        "  -два входа (𝑥1, 𝑥2);\n",
        "\n",
        "  -два нейрона в скрытых слоях (ℎ1, ℎ2);\n",
        "\n",
        "  -два выхода (𝑜1, 𝑜2).\n",
        "\n",
        "Нейроны имеют идентичные веса и пороги:\n",
        "\n",
        "  -w = [1, 0];\n",
        "\n",
        "  -b = 1."
      ]
    },
    {
      "cell_type": "code",
      "execution_count": 11,
      "id": "ed62a031",
      "metadata": {
        "colab": {
          "base_uri": "https://localhost:8080/"
        },
        "id": "ed62a031",
        "outputId": "78c2a188-a423-4a2b-a9b7-c527f7396c4e"
      },
      "outputs": [
        {
          "output_type": "stream",
          "name": "stdout",
          "text": [
            "Первая нейросеть\n",
            "Sigmoid:  0.8067238139969796\n",
            "Tanh:  -0.21713906537767277\n",
            "ReLU:  4.5\n",
            "\n"
          ]
        }
      ],
      "source": [
        "class Neuron:\n",
        "    def __init__(self, w, b):\n",
        "        self.w = w\n",
        "        self.b = b\n",
        "    def ffSigmoid(self, inputs):\n",
        "        total = np.dot(self.w, inputs) + self.b\n",
        "        return Sigmoid(total)\n",
        "    def ffTanh(self, inputs):\n",
        "        total = np.dot(self.w, inputs) + self.b\n",
        "        return Tanh(total)\n",
        "    def ffReLU(self, inputs):\n",
        "        total = np.dot(self.w, inputs) + self.b\n",
        "        return ReLU(total)\n",
        "\n",
        "class NeuralNetwork1:\n",
        "    def __init__(self):\n",
        "        w = np.array([0.5, 0.5, 0.5])\n",
        "        b = 0\n",
        "        self.h1 = Neuron(w, b)\n",
        "        self.h2 = Neuron(w, b)\n",
        "        self.h3 = Neuron(w, b)\n",
        "        self.o1 = Neuron(w, b)\n",
        "    def feedforwardSigmoid(self, x):\n",
        "        out1 = self.h1.ffSigmoid(x)\n",
        "        out2 = self.h2.ffSigmoid(x)\n",
        "        out3 = self.h3.ffSigmoid(x)\n",
        "        outf = self.o1.ffSigmoid(np.array([out1, out2, out3]))\n",
        "        return outf\n",
        "    def feedforwardTanh(self, x):\n",
        "        out1 = self.h1.ffTanh(x)\n",
        "        out2 = self.h2.ffTanh(x)\n",
        "        out3 = self.h3.ffTanh(x)\n",
        "        outf = self.o1.ffTanh(np.array([out1, out2, out3]))\n",
        "        return outf\n",
        "    def feedforwardReLU(self, x):\n",
        "        out1 = self.h1.ffReLU(x)\n",
        "        out2 = self.h2.ffReLU(x)\n",
        "        out3 = self.h3.ffReLU(x)\n",
        "        outf = self.o1.ffReLU(np.array([out1, out2, out3]))\n",
        "        return outf\n",
        "    \n",
        "\n",
        "    \n",
        "network1 = NeuralNetwork1()\n",
        "x1 = np.array([1, 2, 3])\n",
        "print('Первая нейросеть')\n",
        "print('Sigmoid: ', network1.feedforwardSigmoid(x1))\n",
        "print('Tanh: ', network1.feedforwardTanh(x1))\n",
        "print('ReLU: ', network1.feedforwardReLU(x1))\n",
        "print()"
      ]
    },
    {
      "cell_type": "markdown",
      "source": [
        "Реализуйте классы нейронных сетей с использованием других функций \n",
        "активации."
      ],
      "metadata": {
        "id": "csAPHACEvnwP"
      },
      "id": "csAPHACEvnwP"
    },
    {
      "cell_type": "code",
      "source": [
        "import numpy as np\n",
        "\n",
        "def Sigmoid(x):\n",
        "    return 1 / (1 + np.exp(-x))\n",
        "def Tanh(x):\n",
        "    return np.tan(x)\n",
        "def ReLU(x):\n",
        "    return max(0,x)\n",
        "\n",
        "class NeuralNetwork2:\n",
        "    def __init__(self):\n",
        "        w = np.array([1, 0])\n",
        "        b = 1\n",
        "        self.h1 = Neuron(w, b)\n",
        "        self.h2 = Neuron(w, b)\n",
        "        self.o1 = Neuron(w, b)\n",
        "        self.o2 = Neuron(w, b)\n",
        "    def feedforwardSigmoid(self, x):\n",
        "        out1 = self.h1.ffSigmoid(x)\n",
        "        out2 = self.h2.ffSigmoid(x)\n",
        "        out1 = self.o1.ffSigmoid(np.array([out1, out2]))\n",
        "        out2 = self.o2.ffSigmoid(np.array([out1, out2]))\n",
        "        return out1, out2\n",
        "    def feedforwardTanh(self, x):\n",
        "        out1 = self.h1.ffTanh(x)\n",
        "        out2 = self.h2.ffTanh(x)\n",
        "        out1 = self.o1.ffTanh(np.array([out1, out2]))\n",
        "        out2 = self.o2.ffTanh(np.array([out1, out2]))\n",
        "        return out1, out2\n",
        "    def feedforwardReLU(self, x):\n",
        "        out1 = self.h1.ffReLU(x)\n",
        "        out2 = self.h2.ffReLU(x)\n",
        "        out1 = self.o1.ffReLU(np.array([out1, out2]))\n",
        "        out2 = self.o2.ffReLU(np.array([out1, out2]))\n",
        "        return out1, out2\n",
        "\n",
        "network2 = NeuralNetwork2()\n",
        "x2 = np.array([2, 3])\n",
        "print('Вторая нейросеть')\n",
        "print('Sigmoid: ', network2.feedforwardSigmoid(x2))\n",
        "print('Tanh: ', network2.feedforwardTanh(x2))\n",
        "print('ReLU: ', network2.feedforwardReLU(x2))"
      ],
      "metadata": {
        "colab": {
          "base_uri": "https://localhost:8080/"
        },
        "id": "fNU6P2JZvtGg",
        "outputId": "3260c55a-3a76-4ffa-bbbc-7a40f999bd03"
      },
      "id": "fNU6P2JZvtGg",
      "execution_count": 13,
      "outputs": [
        {
          "output_type": "stream",
          "name": "stdout",
          "text": [
            "Вторая нейросеть\n",
            "Sigmoid:  (0.8757270529783324, 0.8671195555587996)\n",
            "Tanh:  (1.1555911185916798, -1.5104758308623794)\n",
            "ReLU:  (4, 5)\n"
          ]
        }
      ]
    },
    {
      "cell_type": "markdown",
      "id": "6acf767c",
      "metadata": {
        "id": "6acf767c"
      },
      "source": [
        "# 1.2. Введение в нейронные сети с помощью Scikit-Learn в Python"
      ]
    },
    {
      "cell_type": "markdown",
      "id": "0f77a87c",
      "metadata": {
        "id": "0f77a87c"
      },
      "source": [
        "Теперь мы знаем, что такое нейронные сети и какие шаги необходимо \n",
        "выполнить, чтобы построить простую нейронную сеть с плотными связями. \n",
        "В этом разделе мы попытаемся построить простую нейронную сеть, которая\n",
        "предсказывает класс, к которому принадлежит данное растение ириса. Мы \n",
        "будем использовать библиотеку Python Scikit-Learn для создания нашей \n",
        "нейронной сети.\n",
        "Sklearn предоставляет 2 оценщика для задач классификации и \n",
        "регрессии соответственно:\n",
        " MLPClassifier;\n",
        " MLPRegressor \n",
        "Начнем с импорта необходимых библиотек."
      ]
    },
    {
      "cell_type": "code",
      "execution_count": 15,
      "id": "b127d5ef",
      "metadata": {
        "id": "b127d5ef"
      },
      "outputs": [],
      "source": [
        "#Загрузка библиотек \n"
      ]
    },
    {
      "cell_type": "markdown",
      "id": "eef38086",
      "metadata": {
        "id": "eef38086"
      },
      "source": [
        "# MLPClassifier"
      ]
    },
    {
      "cell_type": "markdown",
      "id": "5838e4c3",
      "metadata": {
        "id": "5838e4c3"
      },
      "source": [
        "Загрузка данных\n",
        "Мы будем загружать два набора данных.\n",
        "Набор данных цифр: мы будем использовать набор данных цифр, \n",
        "который имеет изображения размером 8x8 для цифр 0-9. Ниже мы будем \n",
        "использовать цифровые данные для задач классификации.\n",
        "Набор данных о жилье в Бостоне: мы будем использовать набор \n",
        "данных о жилье в Бостоне, который содержит информацию о различных \n",
        "свойствах дома, таких как среднее количество комнат, уровень преступности \n",
        "на душу населения в городе и т. д. Мы будем использовать его для задач \n",
        "регрессии.\n",
        "Sklearn предоставляет оба этих набора данных. Мы можем загрузить \n",
        "их, вызвав методы load_digits() и load_boston().\n"
      ]
    },
    {
      "cell_type": "code",
      "execution_count": 18,
      "id": "9166172e",
      "metadata": {
        "colab": {
          "base_uri": "https://localhost:8080/",
          "height": 1000
        },
        "id": "9166172e",
        "outputId": "fb45b9f4-1f16-4a41-d87a-02bea6c17f74"
      },
      "outputs": [
        {
          "output_type": "error",
          "ename": "ImportError",
          "evalue": "ignored",
          "traceback": [
            "\u001b[0;31m---------------------------------------------------------------------------\u001b[0m",
            "\u001b[0;31mImportError\u001b[0m                               Traceback (most recent call last)",
            "\u001b[0;32m<ipython-input-18-b3f4f2e8ec46>\u001b[0m in \u001b[0;36m<cell line: 1>\u001b[0;34m()\u001b[0m\n\u001b[0;32m----> 1\u001b[0;31m \u001b[0;32mfrom\u001b[0m \u001b[0msklearn\u001b[0m\u001b[0;34m.\u001b[0m\u001b[0mdatasets\u001b[0m \u001b[0;32mimport\u001b[0m \u001b[0mload_digits\u001b[0m\u001b[0;34m,\u001b[0m \u001b[0mload_boston\u001b[0m\u001b[0;34m\u001b[0m\u001b[0;34m\u001b[0m\u001b[0m\n\u001b[0m\u001b[1;32m      2\u001b[0m \u001b[0;34m\u001b[0m\u001b[0m\n\u001b[1;32m      3\u001b[0m \u001b[0mdigits\u001b[0m \u001b[0;34m=\u001b[0m \u001b[0mload_digits\u001b[0m\u001b[0;34m(\u001b[0m\u001b[0;34m)\u001b[0m\u001b[0;34m\u001b[0m\u001b[0;34m\u001b[0m\u001b[0m\n\u001b[1;32m      4\u001b[0m \u001b[0mX_digits\u001b[0m\u001b[0;34m,\u001b[0m \u001b[0mY_digits\u001b[0m \u001b[0;34m=\u001b[0m \u001b[0mdigits\u001b[0m\u001b[0;34m.\u001b[0m\u001b[0mdata\u001b[0m\u001b[0;34m,\u001b[0m \u001b[0mdigits\u001b[0m\u001b[0;34m.\u001b[0m\u001b[0mtarget\u001b[0m\u001b[0;34m\u001b[0m\u001b[0;34m\u001b[0m\u001b[0m\n\u001b[1;32m      5\u001b[0m \u001b[0mprint\u001b[0m\u001b[0;34m(\u001b[0m\u001b[0;34m'Dataset Sizes:'\u001b[0m\u001b[0;34m,\u001b[0m \u001b[0mX_digits\u001b[0m\u001b[0;34m.\u001b[0m\u001b[0mshape\u001b[0m\u001b[0;34m,\u001b[0m \u001b[0mY_digits\u001b[0m\u001b[0;34m.\u001b[0m\u001b[0mshape\u001b[0m\u001b[0;34m)\u001b[0m\u001b[0;34m\u001b[0m\u001b[0;34m\u001b[0m\u001b[0m\n",
            "\u001b[0;32m/usr/local/lib/python3.10/dist-packages/sklearn/datasets/__init__.py\u001b[0m in \u001b[0;36m__getattr__\u001b[0;34m(name)\u001b[0m\n\u001b[1;32m    154\u001b[0m             \"\"\"\n\u001b[1;32m    155\u001b[0m         )\n\u001b[0;32m--> 156\u001b[0;31m         \u001b[0;32mraise\u001b[0m \u001b[0mImportError\u001b[0m\u001b[0;34m(\u001b[0m\u001b[0mmsg\u001b[0m\u001b[0;34m)\u001b[0m\u001b[0;34m\u001b[0m\u001b[0;34m\u001b[0m\u001b[0m\n\u001b[0m\u001b[1;32m    157\u001b[0m     \u001b[0;32mtry\u001b[0m\u001b[0;34m:\u001b[0m\u001b[0;34m\u001b[0m\u001b[0;34m\u001b[0m\u001b[0m\n\u001b[1;32m    158\u001b[0m         \u001b[0;32mreturn\u001b[0m \u001b[0mglobals\u001b[0m\u001b[0;34m(\u001b[0m\u001b[0;34m)\u001b[0m\u001b[0;34m[\u001b[0m\u001b[0mname\u001b[0m\u001b[0;34m]\u001b[0m\u001b[0;34m\u001b[0m\u001b[0;34m\u001b[0m\u001b[0m\n",
            "\u001b[0;31mImportError\u001b[0m: \n`load_boston` has been removed from scikit-learn since version 1.2.\n\nThe Boston housing prices dataset has an ethical problem: as\ninvestigated in [1], the authors of this dataset engineered a\nnon-invertible variable \"B\" assuming that racial self-segregation had a\npositive impact on house prices [2]. Furthermore the goal of the\nresearch that led to the creation of this dataset was to study the\nimpact of air quality but it did not give adequate demonstration of the\nvalidity of this assumption.\n\nThe scikit-learn maintainers therefore strongly discourage the use of\nthis dataset unless the purpose of the code is to study and educate\nabout ethical issues in data science and machine learning.\n\nIn this special case, you can fetch the dataset from the original\nsource::\n\n    import pandas as pd\n    import numpy as np\n\n    data_url = \"http://lib.stat.cmu.edu/datasets/boston\"\n    raw_df = pd.read_csv(data_url, sep=\"\\s+\", skiprows=22, header=None)\n    data = np.hstack([raw_df.values[::2, :], raw_df.values[1::2, :2]])\n    target = raw_df.values[1::2, 2]\n\nAlternative datasets include the California housing dataset and the\nAmes housing dataset. You can load the datasets as follows::\n\n    from sklearn.datasets import fetch_california_housing\n    housing = fetch_california_housing()\n\nfor the California housing dataset and::\n\n    from sklearn.datasets import fetch_openml\n    housing = fetch_openml(name=\"house_prices\", as_frame=True)\n\nfor the Ames housing dataset.\n\n[1] M Carlisle.\n\"Racist data destruction?\"\n<https://medium.com/@docintangible/racist-data-destruction-113e3eff54a8>\n\n[2] Harrison Jr, David, and Daniel L. Rubinfeld.\n\"Hedonic housing prices and the demand for clean air.\"\nJournal of environmental economics and management 5.1 (1978): 81-102.\n<https://www.researchgate.net/publication/4974606_Hedonic_housing_prices_and_the_demand_for_clean_air>\n",
            "",
            "\u001b[0;31m---------------------------------------------------------------------------\u001b[0;32m\nNOTE: If your import is failing due to a missing package, you can\nmanually install dependencies using either !pip or !apt.\n\nTo view examples of installing some common dependencies, click the\n\"Open Examples\" button below.\n\u001b[0;31m---------------------------------------------------------------------------\u001b[0m\n"
          ],
          "errorDetails": {
            "actions": [
              {
                "action": "open_url",
                "actionText": "Open Examples",
                "url": "/notebooks/snippets/importing_libraries.ipynb"
              }
            ]
          }
        }
      ],
      "source": [
        "from sklearn.datasets import load_digits, load_boston\n",
        "\n",
        "digits = load_digits() \n",
        "X_digits, Y_digits = digits.data, digits.target \n",
        "print('Dataset Sizes:', X_digits.shape, Y_digits.shape)"
      ]
    },
    {
      "cell_type": "code",
      "execution_count": null,
      "id": "595d7ad1",
      "metadata": {
        "id": "595d7ad1",
        "outputId": "760ddc04-67ee-4c92-9b68-ac752d50bb1b"
      },
      "outputs": [
        {
          "name": "stdout",
          "output_type": "stream",
          "text": [
            "Dataset Sizes: (506, 13) (506,)\n"
          ]
        }
      ],
      "source": [
        "boston = load_boston() \n",
        "X_boston, Y_boston = boston.data, boston.target \n",
        "print('Dataset Sizes:',X_boston. shape, Y_boston.shape)"
      ]
    },
    {
      "cell_type": "markdown",
      "id": "f2046ac2",
      "metadata": {
        "id": "f2046ac2"
      },
      "source": [
        "Классификация\n",
        "MLPClassifier — это клвсс, доступный как часть модуля neuro_network \n",
        "sklearn для выполнения задач классификации с использованием \n",
        "многослойного персептрона.\n",
        "Как обычно разделим набор данных на две части:\n",
        " данные обучения, которые будут использоваться для модели \n",
        "обучения;\n",
        " тестовые данные, по которым будет проверяться точность \n",
        "обученной модели.\n",
        "Функция train_test_split модуля model_selection sklearn поможет нам \n",
        "разделить данные на два набора: 80% для обучения и 20% для тестирования. \n",
        "Мы также используем seed(random_state=123) с train_test_split, чтобы мы \n",
        "всегда получали одно и то же разделение и могли сравнивать и \n",
        "воспроизволить результаты в будущем.\n"
      ]
    },
    {
      "cell_type": "code",
      "execution_count": 17,
      "id": "8a443787",
      "metadata": {
        "colab": {
          "base_uri": "https://localhost:8080/",
          "height": 217
        },
        "id": "8a443787",
        "outputId": "398c8dfa-024d-48b5-a53f-42e8ea314f86"
      },
      "outputs": [
        {
          "output_type": "error",
          "ename": "NameError",
          "evalue": "ignored",
          "traceback": [
            "\u001b[0;31m---------------------------------------------------------------------------\u001b[0m",
            "\u001b[0;31mNameError\u001b[0m                                 Traceback (most recent call last)",
            "\u001b[0;32m<ipython-input-17-98aaa44eb71c>\u001b[0m in \u001b[0;36m<cell line: 3>\u001b[0;34m()\u001b[0m\n\u001b[1;32m      1\u001b[0m \u001b[0;32mfrom\u001b[0m \u001b[0msklearn\u001b[0m\u001b[0;34m.\u001b[0m\u001b[0mmodel_selection\u001b[0m \u001b[0;32mimport\u001b[0m \u001b[0mtrain_test_split\u001b[0m\u001b[0;34m\u001b[0m\u001b[0;34m\u001b[0m\u001b[0m\n\u001b[1;32m      2\u001b[0m \u001b[0;34m\u001b[0m\u001b[0m\n\u001b[0;32m----> 3\u001b[0;31m \u001b[0mX_train\u001b[0m\u001b[0;34m,\u001b[0m \u001b[0mX_test\u001b[0m\u001b[0;34m,\u001b[0m \u001b[0mY_train\u001b[0m\u001b[0;34m,\u001b[0m \u001b[0mY_test\u001b[0m \u001b[0;34m=\u001b[0m \u001b[0mtrain_test_split\u001b[0m\u001b[0;34m(\u001b[0m\u001b[0mX_digits\u001b[0m\u001b[0;34m,\u001b[0m \u001b[0mY_digits\u001b[0m\u001b[0;34m,\u001b[0m \u001b[0mtrain_size\u001b[0m\u001b[0;34m=\u001b[0m\u001b[0;36m0.80\u001b[0m\u001b[0;34m,\u001b[0m \u001b[0mtest_size\u001b[0m\u001b[0;34m=\u001b[0m\u001b[0;36m0.20\u001b[0m\u001b[0;34m,\u001b[0m \u001b[0mstratify\u001b[0m\u001b[0;34m=\u001b[0m\u001b[0mY_digits\u001b[0m\u001b[0;34m,\u001b[0m \u001b[0mrandom_state\u001b[0m\u001b[0;34m=\u001b[0m\u001b[0;36m123\u001b[0m\u001b[0;34m)\u001b[0m\u001b[0;34m\u001b[0m\u001b[0;34m\u001b[0m\u001b[0m\n\u001b[0m\u001b[1;32m      4\u001b[0m \u001b[0mprint\u001b[0m\u001b[0;34m(\u001b[0m\u001b[0;34m'Train/Test Sizes:'\u001b[0m\u001b[0;34m,\u001b[0m \u001b[0mX_train\u001b[0m\u001b[0;34m.\u001b[0m\u001b[0mshape\u001b[0m\u001b[0;34m,\u001b[0m \u001b[0mX_test\u001b[0m\u001b[0;34m.\u001b[0m\u001b[0mshape\u001b[0m\u001b[0;34m,\u001b[0m \u001b[0mY_train\u001b[0m\u001b[0;34m.\u001b[0m\u001b[0mshape\u001b[0m\u001b[0;34m,\u001b[0m \u001b[0mY_test\u001b[0m\u001b[0;34m.\u001b[0m\u001b[0mshape\u001b[0m\u001b[0;34m)\u001b[0m\u001b[0;34m\u001b[0m\u001b[0;34m\u001b[0m\u001b[0m\n",
            "\u001b[0;31mNameError\u001b[0m: name 'X_digits' is not defined"
          ]
        }
      ],
      "source": [
        "from sklearn.model_selection import train_test_split\n",
        "\n",
        "X_train, X_test, Y_train, Y_test = train_test_split(X_digits, Y_digits, train_size=0.80, test_size=0.20, stratify=Y_digits, random_state=123)\n",
        "print('Train/Test Sizes:', X_train.shape, X_test.shape, Y_train.shape, Y_test.shape)"
      ]
    },
    {
      "cell_type": "markdown",
      "id": "ac50dcb3",
      "metadata": {
        "id": "ac50dcb3"
      },
      "source": [
        "Для начала натренируем модель MLPClassifier с параметрами по умолчанию \n",
        "для тренировочных данных."
      ]
    },
    {
      "cell_type": "code",
      "execution_count": null,
      "id": "91e1e54d",
      "metadata": {
        "id": "91e1e54d",
        "outputId": "a063de87-b5a1-403b-8711-35d7081de4f7"
      },
      "outputs": [
        {
          "data": {
            "text/plain": [
              "MLPClassifier(random_state=123)"
            ]
          },
          "execution_count": 89,
          "metadata": {},
          "output_type": "execute_result"
        }
      ],
      "source": [
        "from sklearn.neural_network import MLPClassifier\n",
        "\n",
        "mlp_classifier = MLPClassifier(random_state=123) \n",
        "mlp_classifier.fit(X_train, Y_train)"
      ]
    },
    {
      "cell_type": "code",
      "execution_count": null,
      "id": "a7835aa2",
      "metadata": {
        "id": "a7835aa2",
        "outputId": "3aa995d9-0535-4e27-d29d-02bff557fcc3"
      },
      "outputs": [
        {
          "name": "stdout",
          "output_type": "stream",
          "text": [
            "[5 9 9 6 1 6 6 9 8 7 4 2 1 4 3]\n",
            "[5 9 9 6 1 6 6 9 8 7 4 2 1 4 3]\n",
            "Test Accuracy : 0.983\n",
            "Training Accuracy : 1.000\n"
          ]
        }
      ],
      "source": [
        "Y_preds = mlp_classifier.predict(X_test)\n",
        "\n",
        "print(Y_preds[:15]) \n",
        "print(Y_test[:15]) \n",
        "## Метод Score для оценки точности моделей классификации. \n",
        "print('Test Accuracy : %.3f'%mlp_classifier.score(X_test, Y_test))\n",
        "print('Training Accuracy : %.3f'%mlp_classifier.score(X_train, Y_train))"
      ]
    },
    {
      "cell_type": "markdown",
      "id": "6110c662",
      "metadata": {
        "id": "6110c662"
      },
      "source": [
        "Cоздадим метод plot_confusion_matrix(), который принимает исходные и \n",
        "предсказанные метки данных по модели. Затем он строит матрицу путаницы, \n",
        "используя matplotlib.\n"
      ]
    },
    {
      "cell_type": "code",
      "execution_count": null,
      "id": "55baa28c",
      "metadata": {
        "id": "55baa28c",
        "outputId": "5f27af47-4f52-4eca-8f87-31b5ab2e1c52"
      },
      "outputs": [
        {
          "name": "stdout",
          "output_type": "stream",
          "text": [
            "[[36  0  0  0  0  0  0  0  0  0]\n",
            " [ 0 36  0  0  0  0  0  0  0  0]\n",
            " [ 0  1 33  0  0  0  0  1  0  0]\n",
            " [ 0  0  0 37  0  0  0  0  0  0]\n",
            " [ 0  0  0  0 36  0  0  0  0  0]\n",
            " [ 0  0  0  0  1 36  0  0  0  0]\n",
            " [ 0  0  0  0  0  0 36  0  0  0]\n",
            " [ 0  0  0  0  0  0  0 35  0  1]\n",
            " [ 0  2  0  0  0  0  0  0 33  0]\n",
            " [ 0  0  0  0  0  0  0  0  0 36]]\n"
          ]
        },
        {
          "data": {
            "image/png": "[encoded data removed]",
            "text/plain": [
              "<Figure size 432x432 with 2 Axes>"
            ]
          },
          "metadata": {
            "needs_background": "light"
          },
          "output_type": "display_data"
        }
      ],
      "source": [
        "from sklearn.metrics import confusion_matrix\n",
        "\n",
        "def plot_confusion_matrix(Y_test, Y_preds):\n",
        "    conf_mat = confusion_matrix(Y_test, Y_preds) \n",
        "    print(conf_mat) \n",
        "    fig = plt.figure(figsize=(6,6)) \n",
        "    plt.matshow(conf_mat, cmap=plt.cm.Blues, fignum=1) \n",
        "    plt.yticks(range(10), range(10)) \n",
        "    plt.xticks(range(10), range(10)) \n",
        "    plt.colorbar(); \n",
        "    for i in range(10):\n",
        "        for j in range(10):\n",
        "            plt.text(i-0.2,j+0.1, str(conf_mat[j, i]), color='tab:red')\n",
        "            \n",
        "plot_confusion_matrix(Y_test, mlp_classifier.predict(X_test))"
      ]
    },
    {
      "cell_type": "markdown",
      "id": "a35c6bb9",
      "metadata": {
        "id": "a35c6bb9"
      },
      "source": [
        "Ниже приведен список важных атрибутов, доступных с MLPClassifier, \n",
        "которые могут предоставить значимую информацию после обучения \n",
        "модели.\n",
        " loss_ — возвращает убыток после завершения процесса обучения.\n",
        " coefs_ — возвращает массив длины n_layers-1, где каждый элемент \n",
        "представляет веса, связанные с уровнем i.\n",
        " intercepts_ — возвращает массив длины n_layers-1, где каждый \n",
        "элемент представляет собой перехват, связанный с персептронами \n",
        "слоя i.\n",
        " n_iter_ — количество итераций, для которых выполнялась оценка.\n",
        " out_activation_ — возвращает имя функции активации выходного \n",
        "слоя."
      ]
    },
    {
      "cell_type": "code",
      "execution_count": null,
      "id": "47c9a079",
      "metadata": {
        "id": "47c9a079",
        "outputId": "f03bbc40-30b9-49a4-e16f-4e2541c34fc0"
      },
      "outputs": [
        {
          "name": "stdout",
          "output_type": "stream",
          "text": [
            "Loss :  0.0034728684994180608\n",
            "Number of Coefs :  2\n",
            "Number of Intercepts :  2\n",
            "Number of Iterations for Which Estimator Ran :  125\n",
            "Name of Output Layer Activation Function :  softmax\n"
          ]
        }
      ],
      "source": [
        "print(\"Loss : \", mlp_classifier.loss_) \n",
        "print(\"Number of Coefs : \", len(mlp_classifier.coefs_)) \n",
        "print(\"Number of Intercepts : \", len(mlp_classifier.intercepts_)) \n",
        "print(\"Number of Iterations for Which Estimator Ran : \", mlp_classifier.n_iter_) \n",
        "print(\"Name of Output Layer Activation Function : \",mlp_classifier.out_activation_)"
      ]
    },
    {
      "cell_type": "markdown",
      "id": "b1b0400a",
      "metadata": {
        "id": "b1b0400a"
      },
      "source": [
        "# MLPRegressor\n",
        "MLPRegressor — это класс, доступный как часть библиотеки \n",
        "neuro_network sklearn для выполнения задач регрессии с использованием \n",
        "многослойного персептрона. Также разделим набор данных на две части:\n",
        " данные обучения (80%), которые будут использоваться для \n",
        "модели обучения;\n",
        " тестовые данные (20%), по которым будет проверяться точность \n",
        "обученной модели.\n"
      ]
    },
    {
      "cell_type": "code",
      "execution_count": null,
      "id": "6f7f9fcb",
      "metadata": {
        "id": "6f7f9fcb",
        "outputId": "e0179bb9-d119-4140-da77-e48a3a494eb1"
      },
      "outputs": [
        {
          "name": "stdout",
          "output_type": "stream",
          "text": [
            "Train/Test Sizes :  (404, 13) (102, 13) (404,) (102,)\n"
          ]
        }
      ],
      "source": [
        "X_train, X_test, Y_train, Y_test = train_test_split(X_boston, Y_boston, train_size=0.80, test_size=0.20, random_state=123) \n",
        "print('Train/Test Sizes : ', X_train.shape, X_test.shape, Y_train.shape, Y_test.shape)"
      ]
    },
    {
      "cell_type": "code",
      "execution_count": null,
      "id": "a8564357",
      "metadata": {
        "id": "a8564357",
        "outputId": "7c0393fe-45a5-40db-975b-5bb5312cf135"
      },
      "outputs": [
        {
          "data": {
            "text/plain": [
              "MLPRegressor(random_state=123)"
            ]
          },
          "execution_count": 94,
          "metadata": {},
          "output_type": "execute_result"
        }
      ],
      "source": [
        "from sklearn.neural_network import MLPRegressor\n",
        "\n",
        "mlp_regressor = MLPRegressor(random_state=123) \n",
        "mlp_regressor.fit(X_train, Y_train)"
      ]
    },
    {
      "cell_type": "code",
      "execution_count": null,
      "id": "8f2352df",
      "metadata": {
        "id": "8f2352df",
        "outputId": "77c593b0-cb22-4a14-9160-020f9f002837"
      },
      "outputs": [
        {
          "name": "stdout",
          "output_type": "stream",
          "text": [
            "[ 7.32543601 24.33417853 32.46700507 15.19086054 25.6749167  25.07797685\n",
            " 27.20985668  2.62269853 15.25691994 28.02637784]\n",
            "[15.  26.6 45.4 20.8 34.9 21.9 28.7  7.2 20.  32.2]\n",
            "Test R*2 Score : 0.462\n",
            "Training R*2 Score : 0.510\n"
          ]
        }
      ],
      "source": [
        "Y_preds = mlp_regressor.predict(X_test)\n",
        "\n",
        "print(Y_preds[:10]) \n",
        "print(Y_test[:10]) ## Метод Score оценивает точность моделей классификации. \n",
        "print('Test R*2 Score : %.3f'%mlp_regressor.score(X_test, Y_test)) \n",
        "print('Training R*2 Score : %.3f'%mlp_regressor.score(X_train, Y_train))"
      ]
    },
    {
      "cell_type": "markdown",
      "id": "1309f303",
      "metadata": {
        "id": "1309f303"
      },
      "source": [
        "MLPRegressor имеет все атрибуты такие же, как и у MLPClassifier:\n"
      ]
    },
    {
      "cell_type": "code",
      "execution_count": null,
      "id": "6d22c73e",
      "metadata": {
        "id": "6d22c73e",
        "outputId": "0d7c02c8-698b-4dc3-c30e-3e29849c67f6"
      },
      "outputs": [
        {
          "name": "stdout",
          "output_type": "stream",
          "text": [
            "Loss : 28.538174061119626\n"
          ]
        }
      ],
      "source": [
        "print(\"Loss :\", mlp_regressor.loss_)"
      ]
    },
    {
      "cell_type": "code",
      "execution_count": null,
      "id": "c55ad3df",
      "metadata": {
        "id": "c55ad3df",
        "outputId": "c9963eac-41a4-4b9b-c859-4eb002fb255d"
      },
      "outputs": [
        {
          "name": "stdout",
          "output_type": "stream",
          "text": [
            "Number of Coefs :  2\n"
          ]
        },
        {
          "data": {
            "text/plain": [
              "[(13, 100), (100, 1)]"
            ]
          },
          "execution_count": 97,
          "metadata": {},
          "output_type": "execute_result"
        }
      ],
      "source": [
        "print(\"Number of Coefs : \", len(mlp_regressor.coefs_)) \n",
        "[weights.shape for weights in mlp_regressor.coefs_]"
      ]
    },
    {
      "cell_type": "code",
      "execution_count": null,
      "id": "2b0c0b94",
      "metadata": {
        "id": "2b0c0b94",
        "outputId": "f655c241-315e-4d61-d20b-741cbc29b5a5"
      },
      "outputs": [
        {
          "name": "stdout",
          "output_type": "stream",
          "text": [
            "Number of Iterations for Which Estimator Ran : 130\n"
          ]
        }
      ],
      "source": [
        "print(\"Number of Iterations for Which Estimator Ran :\", mlp_regressor.n_iter_)"
      ]
    },
    {
      "cell_type": "code",
      "execution_count": null,
      "id": "4b9349e4",
      "metadata": {
        "id": "4b9349e4",
        "outputId": "5fdd021a-7e51-4ac4-ab67-8f9adc3df313"
      },
      "outputs": [
        {
          "name": "stdout",
          "output_type": "stream",
          "text": [
            "Name of Output Layer Activation Function : identity\n"
          ]
        }
      ],
      "source": [
        "print(\"Name of Output Layer Activation Function :\",mlp_regressor.out_activation_)"
      ]
    },
    {
      "cell_type": "markdown",
      "id": "256301f3",
      "metadata": {
        "id": "256301f3"
      },
      "source": [
        "Используйте классы MLPClassified и MLPRegressor для классификации и \n",
        "регрессии произвольных данных из интернета. Проведите анализ \n",
        "атрибуты, полученных моделей.\n",
        "Для классификации можете взять набор данных Ирисов:\n",
        "https://gist.githubusercontent.com/netj/8836201/raw/6f9306ad21398ea43cba4f7d537619d0e07d5ae3/iris.csv\n",
        "а для регрессии датасет зависимости заработной платы от опыта работы:\n",
        "https://raw.githubusercontent.com/AnnaShestova/salary-years-simple-linear-regression/master/Salary_Data.csv "
      ]
    },
    {
      "cell_type": "code",
      "execution_count": 16,
      "id": "56ebca73",
      "metadata": {
        "colab": {
          "base_uri": "https://localhost:8080/",
          "height": 269
        },
        "id": "56ebca73",
        "outputId": "120ed426-d494-4e74-d579-1fe527680f1a"
      },
      "outputs": [
        {
          "output_type": "stream",
          "name": "stdout",
          "text": [
            "----------MLPClassifier----------\n",
            "\n"
          ]
        },
        {
          "output_type": "error",
          "ename": "NameError",
          "evalue": "ignored",
          "traceback": [
            "\u001b[0;31m---------------------------------------------------------------------------\u001b[0m",
            "\u001b[0;31mNameError\u001b[0m                                 Traceback (most recent call last)",
            "\u001b[0;32m<ipython-input-16-c22322885fd5>\u001b[0m in \u001b[0;36m<cell line: 7>\u001b[0;34m()\u001b[0m\n\u001b[1;32m      5\u001b[0m \u001b[0mdata\u001b[0m \u001b[0;34m=\u001b[0m \u001b[0mpd\u001b[0m\u001b[0;34m.\u001b[0m\u001b[0mread_csv\u001b[0m\u001b[0;34m(\u001b[0m\u001b[0;34m'https://gist.githubusercontent.com/netj/8836201/raw/6f9306ad21398ea43cba4f7d537619d0e07d5ae3/iris.csv'\u001b[0m\u001b[0;34m)\u001b[0m\u001b[0;34m\u001b[0m\u001b[0;34m\u001b[0m\u001b[0m\n\u001b[1;32m      6\u001b[0m \u001b[0mX_data\u001b[0m\u001b[0;34m,\u001b[0m \u001b[0mY_data\u001b[0m \u001b[0;34m=\u001b[0m \u001b[0mdata\u001b[0m\u001b[0;34m[\u001b[0m\u001b[0;34m'sepal.length'\u001b[0m\u001b[0;34m]\u001b[0m\u001b[0;34m,\u001b[0m \u001b[0mdata\u001b[0m\u001b[0;34m[\u001b[0m\u001b[0;34m'sepal.width'\u001b[0m\u001b[0;34m]\u001b[0m\u001b[0;34m\u001b[0m\u001b[0;34m\u001b[0m\u001b[0m\n\u001b[0;32m----> 7\u001b[0;31m \u001b[0mX_train\u001b[0m\u001b[0;34m,\u001b[0m \u001b[0mX_test\u001b[0m\u001b[0;34m,\u001b[0m \u001b[0mY_train\u001b[0m\u001b[0;34m,\u001b[0m \u001b[0mY_test\u001b[0m \u001b[0;34m=\u001b[0m \u001b[0mtrain_test_split\u001b[0m\u001b[0;34m(\u001b[0m\u001b[0mX_digits\u001b[0m\u001b[0;34m,\u001b[0m \u001b[0mY_digits\u001b[0m\u001b[0;34m,\u001b[0m \u001b[0mtrain_size\u001b[0m\u001b[0;34m=\u001b[0m\u001b[0;36m.80\u001b[0m\u001b[0;34m,\u001b[0m \u001b[0mtest_size\u001b[0m\u001b[0;34m=\u001b[0m\u001b[0;36m.20\u001b[0m\u001b[0;34m,\u001b[0m \u001b[0mstratify\u001b[0m\u001b[0;34m=\u001b[0m\u001b[0mY_digits\u001b[0m\u001b[0;34m,\u001b[0m \u001b[0mrandom_state\u001b[0m\u001b[0;34m=\u001b[0m\u001b[0;36m123\u001b[0m\u001b[0;34m)\u001b[0m\u001b[0;34m\u001b[0m\u001b[0;34m\u001b[0m\u001b[0m\n\u001b[0m\u001b[1;32m      8\u001b[0m \u001b[0mmlp_classifier\u001b[0m \u001b[0;34m=\u001b[0m \u001b[0mMLPClassifier\u001b[0m\u001b[0;34m(\u001b[0m\u001b[0mrandom_state\u001b[0m\u001b[0;34m=\u001b[0m\u001b[0;36m123\u001b[0m\u001b[0;34m)\u001b[0m\u001b[0;34m\u001b[0m\u001b[0;34m\u001b[0m\u001b[0m\n\u001b[1;32m      9\u001b[0m \u001b[0mmlp_classifier\u001b[0m\u001b[0;34m.\u001b[0m\u001b[0mfit\u001b[0m\u001b[0;34m(\u001b[0m\u001b[0mX_train\u001b[0m\u001b[0;34m,\u001b[0m \u001b[0mY_train\u001b[0m\u001b[0;34m)\u001b[0m\u001b[0;34m\u001b[0m\u001b[0;34m\u001b[0m\u001b[0m\n",
            "\u001b[0;31mNameError\u001b[0m: name 'train_test_split' is not defined"
          ]
        }
      ],
      "source": [
        "import numpy as np \n",
        "import pandas as pd \n",
        "import matplotlib.pyplot as plt\n",
        "\n",
        "import sklearn\n",
        "from sklearn.neural_network import MLPClassifier\n",
        "from sklearn.neural_network import MLPRegressor\n",
        "print('----------MLPClassifier----------\\n')\n",
        "\n",
        "data = pd.read_csv('https://gist.githubusercontent.com/netj/8836201/raw/6f9306ad21398ea43cba4f7d537619d0e07d5ae3/iris.csv')\n",
        "X_data, Y_data = data['sepal.length'], data['sepal.width']\n",
        "X_train, X_test, Y_train, Y_test = train_test_split(X_digits, Y_digits, train_size=.80, test_size=.20, stratify=Y_digits, random_state=123)\n",
        "mlp_classifier = MLPClassifier(random_state=123)\n",
        "mlp_classifier.fit(X_train, Y_train)\n",
        "Y_preds = mlp_classifier.predict(X_test)\n",
        "\n",
        "print(Y_preds[:20])\n",
        "print(Y_test[:20])\n",
        "print('Dataset Sizes:', X_data.shape, Y_data.shape)\n",
        "print('Train/Test Sizes:', X_train.shape, X_test.shape, Y_train.shape, Y_test.shape)\n",
        "print('Test Accuracy: %.3f'%mlp_classifier.score(X_test, Y_test))\n",
        "print('Training Accuracy: %.3f'%mlp_classifier.score(X_train, Y_train))\n",
        "print('Loss:', mlp_classifier.loss_)\n",
        "print('Number of Coefs:', len(mlp_classifier.coefs_))\n",
        "print('Number of Intercepts:', len(mlp_classifier.intercepts_))\n",
        "print('Number of Iterations for Which Estimator Ran:', mlp_classifier.n_iter_)\n",
        "print('Name of Output Layer Activation Function:', mlp_classifier.out_activation_)\n",
        "print('\\n----------MLPRegressor----------\\n')\n",
        "\n",
        "data = pd.read_csv('https://raw.githubusercontent.com/AnnaShestova/salary-years-simple-linear-regression/master/Salary_Data.csv')\n",
        "X_data, Y_data = data['YearsExperience'], data['Salary']\n",
        "X_train, X_test, Y_train, Y_test = train_test_split(X_boston, Y_boston, train_size=.80, test_size=.20, random_state=123)\n",
        "mlp_regressor = MLPRegressor(random_state=123)\n",
        "mlp_regressor.fit(X_train, Y_train)\n",
        "Y_preds = mlp_regressor.predict(X_test)\n",
        "\n",
        "print(Y_preds[:20])\n",
        "print(Y_test[:20])\n",
        "print('Dataset Sizes:', X_data.shape, Y_data.shape)\n",
        "print('Train/Test Sizes:', X_train.shape, X_test.shape, Y_train.shape, Y_test.shape)\n",
        "print('Test R^2 Score: %.3f'%mlp_regressor.score(X_test, Y_test))\n",
        "print('Training R^2 Score: %.3f'%mlp_regressor.score(X_train, Y_train))\n",
        "print('Loss:', mlp_regressor.loss_)\n",
        "print('Number of Coefs:', len(mlp_regressor.coefs_))\n",
        "print('Number of Iterations for Which Estimator Ran:', mlp_regressor.n_iter_)\n",
        "print('Name of Output Layer Activation Function:', mlp_regressor.out_activation_)"
      ]
    }
  ],
  "metadata": {
    "kernelspec": {
      "display_name": "Python 3 (ipykernel)",
      "language": "python",
      "name": "python3"
    },
    "language_info": {
      "codemirror_mode": {
        "name": "ipython",
        "version": 3
      },
      "file_extension": ".py",
      "mimetype": "text/x-python",
      "name": "python",
      "nbconvert_exporter": "python",
      "pygments_lexer": "ipython3",
      "version": "3.9.12"
    },
    "colab": {
      "provenance": []
    }
  },
  "nbformat": 4,
  "nbformat_minor": 5
}