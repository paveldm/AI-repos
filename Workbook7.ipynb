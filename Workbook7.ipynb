{
  "cells": [
    {
      "cell_type": "markdown",
      "id": "3929da30",
      "metadata": {
        "id": "3929da30"
      },
      "source": [
        "## Задание 1"
      ]
    },
    {
      "cell_type": "markdown",
      "id": "0e4d37a5",
      "metadata": {
        "id": "0e4d37a5"
      },
      "source": [
        "Реализовать классы нейросетей по аналогии с классом OurNeuralNetwork. \n",
        "\n",
        "Данные нейросети:\n",
        "три входа (x1, x2, x3);\n",
        "три нейрона в скрытых слоях (h1, h2, h3);\n",
        "выход (o1).\n",
        "\n",
        "Нейроны имеют идентичные веса и пороги:\n",
        "w = [0.5, 0.5, 0.5]\n",
        "b=0 "
      ]
    },
    {
      "cell_type": "code",
      "execution_count": 7,
      "id": "54c6a22e",
      "metadata": {
        "id": "54c6a22e"
      },
      "outputs": [],
      "source": [
        "import numpy as np\n",
        "\n",
        "def sigmoid(x):\n",
        "    return 1/(1 + np.exp(-x))\n",
        "\n",
        "class Neuron:\n",
        "    def __init__(self, weights, bias):\n",
        "        self.weights = weights\n",
        "        self.bias = bias\n",
        "    \n",
        "    def feedforward(self, inputs):\n",
        "        total = np.dot(self.weights, inputs) + self.bias\n",
        "        return sigmoid(total)"
      ]
    },
    {
      "cell_type": "code",
      "execution_count": 3,
      "id": "8374b7bd",
      "metadata": {
        "colab": {
          "base_uri": "https://localhost:8080/"
        },
        "id": "8374b7bd",
        "outputId": "c81bc90e-06a1-40bd-a0bd-6f60a35a9436"
      },
      "outputs": [
        {
          "output_type": "stream",
          "name": "stdout",
          "text": [
            "0.9222286937644897\n"
          ]
        }
      ],
      "source": [
        "class OurNeuralNetwork1:\n",
        "    def __init__(self):\n",
        "        weights = np.array([0.5, 0.5, 0.5])\n",
        "        bias = 1\n",
        "        self.h1 = Neuron(weights, bias)\n",
        "        self.h2 = Neuron(weights, bias)\n",
        "        self.h3 = Neuron(weights, bias)\n",
        "        self.o1 = Neuron(weights, bias)\n",
        "        \n",
        "    def feedforward(self, x):\n",
        "        out_h1 = self.h1.feedforward(x)\n",
        "        out_h2 = self.h2.feedforward(x)\n",
        "        out_h3 = self.h3.feedforward(x)\n",
        "        out_o1 = self.o1.feedforward(np.array([out_h1, out_h2, out_h3]))\n",
        "        return out_o1\n",
        "        \n",
        "network = OurNeuralNetwork1()\n",
        "x = np.array([1, 2, 3])\n",
        "print(network.feedforward(x))"
      ]
    },
    {
      "cell_type": "markdown",
      "id": "7feed598",
      "metadata": {
        "id": "7feed598"
      },
      "source": [
        "Данные нейросети:\n",
        "два входа (x1, x2);\n",
        "два нейрона в скрытых слоях (h1, h2);\n",
        "два выхода (o1, o2).\n",
        "\n",
        "Нейроны имеют идентичные веса и пороги: w = [1,0];\n",
        "b= 1."
      ]
    },
    {
      "cell_type": "code",
      "execution_count": 4,
      "id": "c66051dc",
      "metadata": {
        "colab": {
          "base_uri": "https://localhost:8080/"
        },
        "id": "c66051dc",
        "outputId": "1632d5a9-c5cf-46ca-fbbd-1010f65ce753"
      },
      "outputs": [
        {
          "output_type": "stream",
          "name": "stdout",
          "text": [
            "(0.8677026536525567, 0.8677026536525567)\n"
          ]
        }
      ],
      "source": [
        "class OurNeuralNetwork2:\n",
        "    def __init__(self):\n",
        "        weights = np.array([1, 0])\n",
        "        bias = 1\n",
        "        self.h1 = Neuron(weights, bias)\n",
        "        self.h2 = Neuron(weights, bias)\n",
        "        self.o1 = Neuron(weights, bias)\n",
        "        self.o2 = Neuron(weights, bias)\n",
        "        \n",
        "    def feedforward(self, x):\n",
        "        out_h1 = self.h1.feedforward(x)\n",
        "        out_h2 = self.h2.feedforward(x)\n",
        "        out_o1 = self.o1.feedforward(np.array([out_h1, out_h2]))\n",
        "        out_o2 = self.o2.feedforward(np.array([out_h1, out_h2]))\n",
        "        return out_o1, out_o2\n",
        "        \n",
        "network = OurNeuralNetwork2()\n",
        "x = np.array([1, 2])\n",
        "print(network.feedforward(x))"
      ]
    },
    {
      "cell_type": "markdown",
      "id": "e00bea33",
      "metadata": {
        "id": "e00bea33"
      },
      "source": [
        "## Задание 2"
      ]
    },
    {
      "cell_type": "markdown",
      "id": "a27954de",
      "metadata": {
        "id": "a27954de"
      },
      "source": [
        "Реализуйте классы нейронных сетей с использованием других функций активации."
      ]
    },
    {
      "cell_type": "code",
      "execution_count": 5,
      "id": "1050b471",
      "metadata": {
        "colab": {
          "base_uri": "https://localhost:8080/"
        },
        "id": "1050b471",
        "outputId": "75c03671-0597-4f23-b134-530bf44d29c9"
      },
      "outputs": [
        {
          "output_type": "stream",
          "name": "stdout",
          "text": [
            "0.9613959740515259\n"
          ]
        }
      ],
      "source": [
        "def tanh(x):\n",
        "    return np.tanh(x)\n",
        "\n",
        "class Neuron:\n",
        "    def __init__(self, weights, bias):\n",
        "        self.weights = weights\n",
        "        self.bias = bias\n",
        "    \n",
        "    def feedforward(self, inputs):\n",
        "        total = np.dot(self.weights, inputs) + self.bias\n",
        "        return tanh(total)\n",
        "    \n",
        "class NeuralNetwork:\n",
        "    def __init__(self):\n",
        "        weights = np.array([1, 0])\n",
        "        bias = 1\n",
        "        self.h1 = Neuron(weights, bias)\n",
        "        self.h2 = Neuron(weights, bias)\n",
        "        self.o1 = Neuron(weights, bias)\n",
        "        \n",
        "    def feedforward(self, x):\n",
        "        out_h1 = self.h1.feedforward(x)\n",
        "        out_h2 = self.h2.feedforward(x)\n",
        "        out_o1 = self.o1.feedforward(np.array([out_h1, out_h2]))\n",
        "        return out_o1\n",
        "        \n",
        "network = NeuralNetwork()\n",
        "x = np.array([1, 2])\n",
        "print(network.feedforward(x))"
      ]
    },
    {
      "cell_type": "code",
      "execution_count": 8,
      "id": "edb99399",
      "metadata": {
        "colab": {
          "base_uri": "https://localhost:8080/"
        },
        "id": "edb99399",
        "outputId": "4f64fee6-e7c2-45f8-d239-d68fb70c4cac"
      },
      "outputs": [
        {
          "output_type": "stream",
          "name": "stdout",
          "text": [
            "3\n"
          ]
        }
      ],
      "source": [
        "def ReLU(x):\n",
        "    return np.maximum(0, x)\n",
        "\n",
        "class Neuron:\n",
        "    def __init__(self, weights, bias):\n",
        "        self.weights = weights\n",
        "        self.bias = bias\n",
        "    \n",
        "    def feedforward(self, inputs):\n",
        "        total = np.dot(self.weights, inputs) + self.bias\n",
        "        return ReLU(total)\n",
        "    \n",
        "class NeuralNetwork:\n",
        "    def __init__(self):\n",
        "        weights = np.array([1, 0])\n",
        "        bias = 1\n",
        "        self.h1 = Neuron(weights, bias)\n",
        "        self.h2 = Neuron(weights, bias)\n",
        "        self.o1 = Neuron(weights, bias)\n",
        "        \n",
        "    def feedforward(self, x):\n",
        "        out_h1 = self.h1.feedforward(x)\n",
        "        out_h2 = self.h2.feedforward(x)\n",
        "        out_o1 = self.o1.feedforward(np.array([out_h1, out_h2]))\n",
        "        return out_o1\n",
        "        \n",
        "network = NeuralNetwork()\n",
        "x = np.array([1, 2])\n",
        "print(network.feedforward(x))"
      ]
    },
    {
      "cell_type": "markdown",
      "id": "35e85a6b",
      "metadata": {
        "id": "35e85a6b"
      },
      "source": [
        "## Задание 3"
      ]
    },
    {
      "cell_type": "markdown",
      "id": "fc10d654",
      "metadata": {
        "id": "fc10d654"
      },
      "source": [
        "Используйте классы MLPClassified и MLPRegressor для классификации и регрессии произвольных данных из интернета. Проведите анализ атрибуты, полученных моделей.\n",
        "Для классификации можете взять набор данных Ирисов: https://gist.githubusercontent.com/netj/8836201/raw/6f9306ad21398ea43cba4f7d537619d0e07d5ae3/iris.csv\n",
        "а для регрессии датасет зависимости заработной платы от опыта работы: https://raw.githubusercontent.com/AnnaShestova/salary-years-simple-linear-regression/master/Salary_Data.csv"
      ]
    },
    {
      "cell_type": "code",
      "execution_count": 12,
      "id": "51d812b2",
      "metadata": {
        "colab": {
          "base_uri": "https://localhost:8080/"
        },
        "id": "51d812b2",
        "outputId": "b2c32a8f-de01-4414-a12b-d9066a55c2f1"
      },
      "outputs": [
        {
          "output_type": "stream",
          "name": "stdout",
          "text": [
            "Looking in indexes: https://pypi.org/simple, https://us-python.pkg.dev/colab-wheels/public/simple/\n",
            "Requirement already satisfied: munch in /usr/local/lib/python3.10/dist-packages (3.0.0)\n",
            "Requirement already satisfied: six in /usr/local/lib/python3.10/dist-packages (from munch) (1.16.0)\n"
          ]
        }
      ],
      "source": [
        "pip install munch"
      ]
    },
    {
      "cell_type": "code",
      "execution_count": 11,
      "id": "d3af831b",
      "metadata": {
        "colab": {
          "base_uri": "https://localhost:8080/"
        },
        "id": "d3af831b",
        "outputId": "9e774fd8-f8b3-4448-b61a-d519de83af48"
      },
      "outputs": [
        {
          "output_type": "stream",
          "name": "stdout",
          "text": [
            "(120, 4) (30, 4) (120,) (30,)\n",
            "['Versicolor' 'Virginica' 'Virginica' 'Versicolor' 'Versicolor'\n",
            " 'Versicolor' 'Virginica' 'Virginica' 'Versicolor' 'Setosa' 'Setosa'\n",
            " 'Setosa' 'Versicolor' 'Versicolor' 'Setosa']\n",
            "90     Versicolor\n",
            "70     Versicolor\n",
            "135     Virginica\n",
            "88     Versicolor\n",
            "69     Versicolor\n",
            "78     Versicolor\n",
            "114     Virginica\n",
            "141     Virginica\n",
            "99     Versicolor\n",
            "13         Setosa\n",
            "12         Setosa\n",
            "32         Setosa\n",
            "92     Versicolor\n",
            "53     Versicolor\n",
            "8          Setosa\n",
            "Name: variety, dtype: object\n",
            "Test Accurancy: 0.933\n",
            "Training Accurancy: 0.992\n",
            "Loss:  0.07078727407360505\n",
            "Number of coefs:  2\n",
            "Number of intercepts:  2\n",
            "Number of iterations for which estimator ran:  599\n",
            "Name of output layer activation function:  softmax\n"
          ]
        }
      ],
      "source": [
        "import pandas as pd\n",
        "\n",
        "from sklearn.model_selection import train_test_split\n",
        "from sklearn.neural_network import MLPRegressor, MLPClassifier\n",
        "\n",
        "url = r'https://gist.githubusercontent.com/netj/8836201/raw/6f9306ad21398ea43cba4f7d537619d0e07d5ae3/iris.csv'\n",
        "\n",
        "data = pd.read_csv(url)\n",
        "\n",
        "X_train, X_test, y_train, y_test = train_test_split(\n",
        "    data.iloc[:,:-1],\n",
        "    data.iloc[:,-1],\n",
        "    test_size = 0.20\n",
        ")\n",
        "print(X_train.shape, X_test.shape, y_train.shape, y_test.shape)\n",
        "\n",
        "mlp_classifier = MLPClassifier(random_state=123, max_iter=1000)\n",
        "mlp_classifier.fit(X_train, y_train)\n",
        "Y_preds = mlp_classifier.predict(X_test)\n",
        "\n",
        "print(Y_preds[:15])\n",
        "print(y_test[:15])\n",
        "\n",
        "print('Test Accurancy: %.3f'%mlp_classifier.score(X_test, y_test))\n",
        "print('Training Accurancy: %.3f'%mlp_classifier.score(X_train, y_train))\n",
        "print(\"Loss: \", mlp_classifier.loss_)\n",
        "print(\"Number of coefs: \", len(mlp_classifier.coefs_))\n",
        "print(\"Number of intercepts: \", len(mlp_classifier.intercepts_))\n",
        "print(\"Number of iterations for which estimator ran: \", mlp_classifier.n_iter_)\n",
        "print(\"Name of output layer activation function: \", mlp_classifier.out_activation_)"
      ]
    },
    {
      "cell_type": "code",
      "execution_count": 13,
      "id": "4b8421e5",
      "metadata": {
        "colab": {
          "base_uri": "https://localhost:8080/"
        },
        "id": "4b8421e5",
        "outputId": "c4def578-b860-4537-ad12-ce45ca846b3f"
      },
      "outputs": [
        {
          "output_type": "stream",
          "name": "stdout",
          "text": [
            "(24, 1) (6, 1) (24,) (6,)\n",
            "[ 55265.2045971  126554.5591937   52335.80522199 116782.59147446\n",
            "  55265.2045971  117759.05793283]\n",
            "[ 54445. 121872.  56642. 116969.  64445. 112635.]\n",
            "Test R^2: 0.971\n",
            "Training R^2: 0.948\n",
            "Loss:  16873681.689960103\n",
            "Number of coefs:  2\n",
            "Number of intercepts:  2\n",
            "Number of iterations for which estimator ran:  30344\n",
            "Name of output layer activation function:  identity\n"
          ]
        }
      ],
      "source": [
        "url = r'https://raw.githubusercontent.com/AnnaShestova/salary-years-simple-linear-regression/master/Salary_Data.csv'\n",
        "\n",
        "data = pd.read_csv(url)\n",
        "\n",
        "X_train, X_test, y_train, y_test = train_test_split(\n",
        "    data.iloc[:,:-1].values,\n",
        "    data.iloc[:,-1].values,\n",
        "    test_size = 0.20,\n",
        "    random_state=123\n",
        ")\n",
        "print(X_train.shape, X_test.shape, y_train.shape, y_test.shape)\n",
        "\n",
        "mlp_regressor = MLPRegressor(random_state=123, max_iter = 32000)\n",
        "mlp_regressor.fit(X_train, y_train)\n",
        "Y_preds = mlp_regressor.predict(X_test)\n",
        "\n",
        "print(Y_preds[:10])\n",
        "print(y_test[:10])\n",
        "print('Test R^2: %.3f'%mlp_regressor.score(X_test, y_test))\n",
        "print('Training R^2: %.3f'%mlp_regressor.score(X_train, y_train))\n",
        "print(\"Loss: \", mlp_regressor.loss_)\n",
        "print(\"Number of coefs: \", len(mlp_regressor.coefs_))\n",
        "print(\"Number of intercepts: \", len(mlp_regressor.intercepts_))\n",
        "print(\"Number of iterations for which estimator ran: \", mlp_regressor.n_iter_)\n",
        "print(\"Name of output layer activation function: \", mlp_regressor.out_activation_)"
      ]
    }
  ],
  "metadata": {
    "kernelspec": {
      "display_name": "Python 3 (ipykernel)",
      "language": "python",
      "name": "python3"
    },
    "language_info": {
      "codemirror_mode": {
        "name": "ipython",
        "version": 3
      },
      "file_extension": ".py",
      "mimetype": "text/x-python",
      "name": "python",
      "nbconvert_exporter": "python",
      "pygments_lexer": "ipython3",
      "version": "3.9.12"
    },
    "colab": {
      "provenance": []
    }
  },
  "nbformat": 4,
  "nbformat_minor": 5
}